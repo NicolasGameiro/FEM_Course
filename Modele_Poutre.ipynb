{
 "cells": [
  {
   "cell_type": "markdown",
   "metadata": {},
   "source": [
    "# Modélisation d'une caténaire\n",
    "\n",
    "#### Table des matières\n",
    "1. [Introduction](#1.Introduction) \n",
    "2. [Modélisation](#2.Modélisation) \n",
    "1. [Code](#subparagraph1) \n",
    "3. [Références](#paragraph2) \n",
    "\n",
    "---\n",
    "\n",
    "L'objectif de ce document est de réaliser la modélisation par éléments finis d'un caténaire.\n",
    "\n",
    "## 1. Introduction\n",
    "\n",
    "La caténaire constitue le système suivant :\n",
    "$$ caténaire = \\{fil porteur + pendule + fil de contact\\} $$\n",
    "\n",
    "On commence par réaliser une modélisation du fil de contact. On utilise une modèle barre. Le fil est modélisé par une barre de section constant dont on ne peut transmettre que des efforts longitunidaux dans un premier temps."
   ]
  },
  {
   "cell_type": "markdown",
   "metadata": {},
   "source": [
    "\n",
    "\n",
    "### Modèle de poutre d'Euler-Bernoulli\n",
    "\n",
    "On peut utiliser une autre approche pour modéliser les déformations d'une poutre qui repose sur des hypothèses simplificatrices : \n",
    "- Les sections restent perpendiculaire à la fibre neutre de la poutre\n",
    "- les déformations sont petites ($\\theta << 1$) permet de linéariser certaines formules trognométriques\n",
    "- Le matériau est homogène, élastique linéaire et isotrope\n",
    "\n",
    "![modelisation schema](Images/Euler.png \"title\")\n",
    "\n",
    "On approxime le déplacement d'un élément par la formule suivante : \n",
    "\n",
    "$$ u = N q $$\n",
    "\n",
    "On utilise les valeurs au extremité de l'élément pour reconstituer le déplacement à l'intérieur de l'élément.\n",
    "\n",
    "$$ q = \\begin{pmatrix} u_1\\\\ v_1 \\\\ \\phi_1 \\\\  u_2\\\\ v_2 \\\\ \\phi_2 \\end{pmatrix} $$\n",
    "\n",
    "Les fonctions d'interpolation sont plus compliquées et longues à trouver que dans le cas de la modélisation en barre.\n",
    "\n",
    "On obtient une matrice de raideur élementaire de cette forme :\n",
    "\n",
    "$ A = S $\n",
    "$ B = \\frac{I}{L^2} $\n",
    "$$ K_{elem} = \\frac{ES}{L} \\begin{pmatrix}\n",
    "A & 0 & 0 & -A & 0 & 0\\\\\n",
    "0 & 12B & 6LB & 0 & -12B & 6LB \\\\\n",
    "0 & 6LB & 4L^2B & 0 & -6LB & 2L^2B \\\\\n",
    "-A & 0 & 0 & A & 0 & 0\\\\\n",
    "0 & -12B & -6LB & 0 & 12B & -6LB \\\\\n",
    "0 & 6LB & 2L^2B & 0 & -6LB & 4L^2B \n",
    "\\end{pmatrix} $$\n",
    "\n",
    "La matrice de masse vaut : \n",
    "$$ M_{elem} = \\frac{\\rho S}{420 L} \\begin{pmatrix}\n",
    "140 & 0 & 0 & 70 & 0 & 0\\\\\n",
    "0 & 156 & 22L & 0 & 54 & -13L \\\\\n",
    "0 & 22L & 4L^2 & 0 & 13L & -3L^2 \\\\\n",
    "70 & 0 & 0 & 140 & 0 & 0\\\\\n",
    "0 & 54 & 13L & 0 & 156 & -22L \\\\\n",
    "0 & -13L & -3L^2  & 0 & -22L & 4L^2 \n",
    "\\end{pmatrix} $$\n"
   ]
  },
  {
   "cell_type": "markdown",
   "metadata": {},
   "source": [
    "> The overriding design goal for Markdown's\n",
    "> formatting syntax is to make it as readable\n",
    "> as possible. The idea is that a\n",
    "> Markdown-formatted document should be\n",
    "> publishable as-is, as plain text, without\n",
    "> looking like it's been marked up with tags\n",
    "> or formatting instructions."
   ]
  },
  {
   "cell_type": "markdown",
   "metadata": {},
   "source": [
    "### Codage du modéle\n",
    "\n",
    "On va maintenant coder tout ça en python et automatiser un peut les calculs pour plus d'éléments. \n",
    "Et faire de la visualisation pour vérifier un peu ce qu'on fait.\n",
    "\n",
    "On commence par importer les package nécessaires : \n",
    "- *numpy* pour la création et manipulation de matrice\n",
    "- *matplotlib* pour le tracer de graphe"
   ]
  },
  {
   "cell_type": "code",
   "execution_count": 63,
   "metadata": {},
   "outputs": [
    {
     "name": "stdout",
     "output_type": "stream",
     "text": [
      "Nombre de noeuds : 3\n",
      "Nombre de elements : 2\n"
     ]
    }
   ],
   "source": [
    "import matplotlib.pyplot as plt\n",
    "import numpy as np\n",
    "from numpy.linalg import inv\n",
    "\n",
    "### Etape 1 : on defini notre geometrie\n",
    "cas = 1\n",
    "if cas == 1 : \n",
    "    NL = np.array([[1,0],\n",
    "              [2,0],\n",
    "              [3,0]])\n",
    "    EL = np.array([[1,2],\n",
    "              [2,3]])\n",
    "elif cas == 2 :\n",
    "    NL = np.array([[1,0],\n",
    "                  [2,0],\n",
    "                  [3,0],\n",
    "                  [4,0],\n",
    "                  [5,0]])\n",
    "    EL = np.array([[1,2],\n",
    "                  [2,3],\n",
    "                  [3,4],\n",
    "                  [4,5]])\n",
    "\n",
    "NoN = len(NL) # Nombre de noeuds\n",
    "NoE = len(EL) # Nombre d'elements\n",
    "print(\"Nombre de noeuds :\", NoN)\n",
    "print(\"Nombre de elements :\", NoE)\n",
    "\n",
    "#plt.plot(NL[:,0],NL[:,1],'o')\n",
    "#plt.show()"
   ]
  },
  {
   "cell_type": "markdown",
   "metadata": {},
   "source": [
    "| Variable    | Libellé / Definition                                        | Unité / Unit|\n",
    "| ----------- | ----------------------------------------------------------- | ----------- |\n",
    "|  E          | Module d'Young                                              | Pa          |\n",
    "|  S          | Section de l'element                                        | m2          |\n",
    "| L       | Longueur de l'element  | m          |"
   ]
  },
  {
   "cell_type": "markdown",
   "metadata": {},
   "source": [
    "### Cas Poutre complete (effort axial, transverse et moment)"
   ]
  },
  {
   "cell_type": "code",
   "execution_count": 86,
   "metadata": {},
   "outputs": [
    {
     "name": "stdout",
     "output_type": "stream",
     "text": [
      "Matrice de raideur dans les coordonnees globales : \n",
      " [[  2000000.         0.         0.  -2000000.         0.         0.]\n",
      " [        0.  24000000.  12000000.         0. -24000000.  12000000.]\n",
      " [        0.  12000000.   8000000.         0. -12000000.   4000000.]\n",
      " [ -2000000.         0.         0.   2000000.         0.         0.]\n",
      " [        0. -24000000. -12000000.         0.  24000000. -12000000.]\n",
      " [        0.  12000000.   4000000.         0. -12000000.   8000000.]] \n",
      "\n",
      " ### Debut de l'assemblage ###\n",
      "### Fin de l'assemblage ###\n"
     ]
    },
    {
     "name": "stdin",
     "output_type": "stream",
     "text": [
      "Combien de ddl a bloquer ? 3\n",
      "element concerne ? 1\n",
      "0 = u, 1 = v, 2 = phi 0\n",
      "element concerne ? 1\n",
      "0 = u, 1 = v, 2 = phi 1\n",
      "element concerne ? 1\n",
      "0 = u, 1 = v, 2 = phi 2\n"
     ]
    },
    {
     "name": "stdout",
     "output_type": "stream",
     "text": [
      "U \n",
      " [[0.        ]\n",
      " [0.        ]\n",
      " [0.        ]\n",
      " [0.        ]\n",
      " [0.00833333]\n",
      " [0.015     ]\n",
      " [0.        ]\n",
      " [0.02666667]\n",
      " [0.02      ]]\n"
     ]
    }
   ],
   "source": [
    "### Etapte 2 : On calcule la matrice de raideur dans le repere local dans les coordonnees locales\n",
    "E = 20e9 # Module D'Young [en Pa]\n",
    "S = 100e-6 # Section [en m^2]\n",
    "L = 1 # Longueur d'un element [en m]\n",
    "\n",
    "%run Fonctions.ipynb\n",
    "\n",
    "I = 1 # Moment d'inertie m^4\n",
    "A = S\n",
    "B = I/L**2\n",
    "K_elem = E*S/L*np.array([[1, 0 , 0, -1, 0, 0],\n",
    "                         [0, 12*B , 6*L*B, 0, -12*B, 6*L*B],\n",
    "                         [0, 6*L*B , 4*L**2*B, 0, -6*L*B, 2*L**2*B],\n",
    "                         [-1, 0, 0, 1, 0, 0],\n",
    "                         [0, -12*B , -6*L*B , 0, 12*B , -6*L*B],\n",
    "                         [0,  6*L*B , 2*L**2*B , 0, -6*L*B ,  4*L**2*B]])\n",
    "\n",
    "### Etape 3 : On passe la matrice de raideur dans les coordonnees globale (on fait des rotations)\n",
    "\n",
    "K_rot = changement_base(R_complet(theta=0),K_elem)\n",
    "print(\"Matrice de raideur dans les coordonnees globales : \\n\", K_rot, \"\\n\")\n",
    "\n",
    "### Etape 4 : On passe les coordonnees locales en coordonnees globales\n",
    "\n",
    "matrices_de_passage = changement_coord_complet(NL,EL)\n",
    "\n",
    "### Etape 5 : Assemblage de la matrice globale \n",
    "\n",
    "K_glob = assemblage_complet(K_rot,matrices_de_passage,NL,EL)\n",
    "#print(K_glob)\n",
    "\n",
    "### Etape 6 : Application des conditions limites\n",
    "\n",
    "q = 200 # Charge repartie (en N/m)\n",
    "    \n",
    "Q_equi = distributed_load_complet(NoN,NoE,q)\n",
    "\n",
    "F = np.array([[0],\n",
    "             [0],\n",
    "              [0],\n",
    "             [0],\n",
    "             [0],\n",
    "              [0],\n",
    "              [0],\n",
    "             [20000],\n",
    "             [0]])\n",
    "\n",
    "BC = create_bc_matrix(NoN)\n",
    "\n",
    "BC = np.array([[0., 0., 0., 0., 0., 0.],\n",
    "               [0., 0., 0., 0., 0., 0.],\n",
    "               [0., 0., 0., 0., 0., 0.],\n",
    "               [1., 0., 0., 0., 0., 0.],\n",
    "              [0., 1., 0., 0., 0., 0.],\n",
    "              [0., 0., 1., 0., 0., 0.],\n",
    "              [0., 0., 0., 1., 0., 0.],\n",
    "              [0., 0., 0., 0., 1., 0.],\n",
    "              [0., 0., 0., 0., 0., 1.]])\n",
    "\n",
    "### Etape 7 : Resolution\n",
    "\n",
    "U = solve(K_glob,F,BC)\n",
    "print(\"U \\n\",U)\n",
    "\n",
    "### Etape 8 : Affichage"
   ]
  },
  {
   "cell_type": "markdown",
   "metadata": {},
   "source": [
    "### paramètres du modèle\n",
    "\n",
    "$\\sigma = \\frac{T}{S}$"
   ]
  },
  {
   "cell_type": "code",
   "execution_count": null,
   "metadata": {},
   "outputs": [],
   "source": [
    "T = 12000 # Tension appliquee au fil [en N]\n",
    "S_fc = 150e-6 # Section du fil de contact [en m^2]\n",
    "\n",
    "sigma_fc = T/S_fc # Contrainte dans le fil de contact [en N/m^2]\n",
    "print(\"contrainte dans le fil :\", sigma_fc/1e6, \" MPa\")"
   ]
  },
  {
   "cell_type": "markdown",
   "metadata": {},
   "source": [
    "## Liens utiles :\n",
    "\n",
    "* [1]: <https://fr.wikipedia.org/wiki/Cat%C3%A9naire> \"Définition caténaire\"\n",
    "\n",
    "Je me suis grandement inspiré des excellentes vidéos de Mike Foster sur Youtube : <https://www.youtube.com/watch?v=1Wv-S6OCsPY>"
   ]
  },
  {
   "cell_type": "code",
   "execution_count": null,
   "metadata": {},
   "outputs": [],
   "source": []
  }
 ],
 "metadata": {
  "kernelspec": {
   "display_name": "Python 3",
   "language": "python",
   "name": "python3"
  },
  "language_info": {
   "codemirror_mode": {
    "name": "ipython",
    "version": 3
   },
   "file_extension": ".py",
   "mimetype": "text/x-python",
   "name": "python",
   "nbconvert_exporter": "python",
   "pygments_lexer": "ipython3",
   "version": "3.8.8"
  }
 },
 "nbformat": 4,
 "nbformat_minor": 4
}
