{
 "cells": [
  {
   "cell_type": "code",
   "execution_count": 47,
   "id": "bfee3d20-b15e-453e-8456-2d85deff281c",
   "metadata": {},
   "outputs": [
    {
     "name": "stdout",
     "output_type": "stream",
     "text": [
      "[ 0.00000000e+00 -1.60200745e-06 -3.29760743e+10]\n",
      "[0.00000000e+00 3.29760743e+10 1.64880372e+10]\n"
     ]
    },
    {
     "data": {
      "text/plain": [
       "<matplotlib.collections.PathCollection at 0x29a3d8f7910>"
      ]
     },
     "execution_count": 47,
     "metadata": {},
     "output_type": "execute_result"
    },
    {
     "data": {
      "image/png": "[encoded data removed]",
      "text/plain": [
       "<Figure size 432x288 with 1 Axes>"
      ]
     },
     "metadata": {
      "needs_background": "light"
     },
     "output_type": "display_data"
    },
    {
     "data": {
      "image/png": "[encoded data removed]",
      "text/plain": [
       "<Figure size 432x288 with 1 Axes>"
      ]
     },
     "metadata": {
      "needs_background": "light"
     },
     "output_type": "display_data"
    }
   ],
   "source": []
  },
  {
   "cell_type": "code",
   "execution_count": 66,
   "id": "e3108ccd-ff9f-4a16-9be7-2124f6e4ccd1",
   "metadata": {},
   "outputs": [
    {
     "name": "stdout",
     "output_type": "stream",
     "text": [
      "Nombre de noeuds : 3\n",
      "Nombre de elements : 3\n"
     ]
    },
    {
     "data": {
      "image/png": "[encoded data removed]",
      "text/plain": [
       "<Figure size 432x288 with 1 Axes>"
      ]
     },
     "metadata": {
      "needs_background": "light"
     },
     "output_type": "display_data"
    },
    {
     "name": "stdout",
     "output_type": "stream",
     "text": [
      "[[1. 0. 0. 0.]\n",
      " [0. 1. 0. 0.]\n",
      " [0. 0. 1. 0.]\n",
      " [0. 0. 0. 1.]\n",
      " [0. 0. 0. 0.]\n",
      " [0. 0. 0. 0.]]\n",
      "[[0. 0. 0. 0.]\n",
      " [0. 0. 0. 0.]\n",
      " [1. 0. 0. 0.]\n",
      " [0. 1. 0. 0.]\n",
      " [0. 0. 1. 0.]\n",
      " [0. 0. 0. 1.]]\n",
      "[[0. 0. 1. 0.]\n",
      " [0. 0. 0. 1.]\n",
      " [0. 0. 0. 0.]\n",
      " [0. 0. 0. 0.]\n",
      " [1. 0. 0. 0.]\n",
      " [0. 1. 0. 0.]]\n",
      " ### Debut de l'assemblage ###\n",
      "Global Stiffness : \n",
      " [[0. 0. 0. 0. 0. 0.]\n",
      " [0. 0. 0. 0. 0. 0.]\n",
      " [0. 0. 0. 0. 0. 0.]\n",
      " [0. 0. 0. 0. 0. 0.]\n",
      " [0. 0. 0. 0. 0. 0.]\n",
      " [0. 0. 0. 0. 0. 0.]]\n",
      "traitement de l'element :  1\n",
      "1 2\n",
      "matrice rotation : \n",
      " [[ 1.  0.  0.  0.]\n",
      " [-0.  1.  0.  0.]\n",
      " [ 0.  0.  1.  0.]\n",
      " [ 0.  0. -0.  1.]]\n",
      "matrice rotation : \n",
      " [[ 2.e+10  0.e+00 -2.e+10  0.e+00]\n",
      " [ 0.e+00  0.e+00  0.e+00  0.e+00]\n",
      " [-2.e+10  0.e+00  2.e+10  0.e+00]\n",
      " [ 0.e+00  0.e+00  0.e+00  0.e+00]]\n",
      "[[ 2.e+10  0.e+00 -2.e+10  0.e+00  0.e+00  0.e+00]\n",
      " [ 0.e+00  0.e+00  0.e+00  0.e+00  0.e+00  0.e+00]\n",
      " [-2.e+10  0.e+00  2.e+10  0.e+00  0.e+00  0.e+00]\n",
      " [ 0.e+00  0.e+00  0.e+00  0.e+00  0.e+00  0.e+00]\n",
      " [ 0.e+00  0.e+00  0.e+00  0.e+00  0.e+00  0.e+00]\n",
      " [ 0.e+00  0.e+00  0.e+00  0.e+00  0.e+00  0.e+00]]\n",
      "Global Stiffness : \n",
      " [[ 2.e+10  0.e+00 -2.e+10  0.e+00  0.e+00  0.e+00]\n",
      " [ 0.e+00  0.e+00  0.e+00  0.e+00  0.e+00  0.e+00]\n",
      " [-2.e+10  0.e+00  2.e+10  0.e+00  0.e+00  0.e+00]\n",
      " [ 0.e+00  0.e+00  0.e+00  0.e+00  0.e+00  0.e+00]\n",
      " [ 0.e+00  0.e+00  0.e+00  0.e+00  0.e+00  0.e+00]\n",
      " [ 0.e+00  0.e+00  0.e+00  0.e+00  0.e+00  0.e+00]]\n",
      "traitement de l'element :  2\n",
      "2 3\n",
      "matrice rotation : \n",
      " [[-0.4472136   0.89442719  0.          0.        ]\n",
      " [-0.89442719 -0.4472136   0.          0.        ]\n",
      " [ 0.          0.         -0.4472136   0.89442719]\n",
      " [ 0.          0.         -0.89442719 -0.4472136 ]]\n",
      "matrice rotation : \n",
      " [[ 3.57770876e+09 -7.15541753e+09 -3.57770876e+09  7.15541753e+09]\n",
      " [-7.15541753e+09  1.43108351e+10  7.15541753e+09 -1.43108351e+10]\n",
      " [-3.57770876e+09  7.15541753e+09  3.57770876e+09 -7.15541753e+09]\n",
      " [ 7.15541753e+09 -1.43108351e+10 -7.15541753e+09  1.43108351e+10]]\n",
      "[[ 0.00000000e+00  0.00000000e+00  0.00000000e+00  0.00000000e+00\n",
      "   0.00000000e+00  0.00000000e+00]\n",
      " [ 0.00000000e+00  0.00000000e+00  0.00000000e+00  0.00000000e+00\n",
      "   0.00000000e+00  0.00000000e+00]\n",
      " [ 0.00000000e+00  0.00000000e+00  3.57770876e+09 -7.15541753e+09\n",
      "  -3.57770876e+09  7.15541753e+09]\n",
      " [ 0.00000000e+00  0.00000000e+00 -7.15541753e+09  1.43108351e+10\n",
      "   7.15541753e+09 -1.43108351e+10]\n",
      " [ 0.00000000e+00  0.00000000e+00 -3.57770876e+09  7.15541753e+09\n",
      "   3.57770876e+09 -7.15541753e+09]\n",
      " [ 0.00000000e+00  0.00000000e+00  7.15541753e+09 -1.43108351e+10\n",
      "  -7.15541753e+09  1.43108351e+10]]\n",
      "Global Stiffness : \n",
      " [[ 2.00000000e+10  0.00000000e+00 -2.00000000e+10  0.00000000e+00\n",
      "   0.00000000e+00  0.00000000e+00]\n",
      " [ 0.00000000e+00  0.00000000e+00  0.00000000e+00  0.00000000e+00\n",
      "   0.00000000e+00  0.00000000e+00]\n",
      " [-2.00000000e+10  0.00000000e+00  2.35777088e+10 -7.15541753e+09\n",
      "  -3.57770876e+09  7.15541753e+09]\n",
      " [ 0.00000000e+00  0.00000000e+00 -7.15541753e+09  1.43108351e+10\n",
      "   7.15541753e+09 -1.43108351e+10]\n",
      " [ 0.00000000e+00  0.00000000e+00 -3.57770876e+09  7.15541753e+09\n",
      "   3.57770876e+09 -7.15541753e+09]\n",
      " [ 0.00000000e+00  0.00000000e+00  7.15541753e+09 -1.43108351e+10\n",
      "  -7.15541753e+09  1.43108351e+10]]\n",
      "traitement de l'element :  3\n",
      "3 1\n",
      "matrice rotation : \n",
      " [[-0.4472136  -0.89442719  0.          0.        ]\n",
      " [ 0.89442719 -0.4472136   0.          0.        ]\n",
      " [ 0.          0.         -0.4472136  -0.89442719]\n",
      " [ 0.          0.          0.89442719 -0.4472136 ]]\n",
      "matrice rotation : \n",
      " [[ 3.57770876e+09  7.15541753e+09 -3.57770876e+09 -7.15541753e+09]\n",
      " [ 7.15541753e+09  1.43108351e+10 -7.15541753e+09 -1.43108351e+10]\n",
      " [-3.57770876e+09 -7.15541753e+09  3.57770876e+09  7.15541753e+09]\n",
      " [-7.15541753e+09 -1.43108351e+10  7.15541753e+09  1.43108351e+10]]\n",
      "[[ 3.57770876e+09  7.15541753e+09  0.00000000e+00  0.00000000e+00\n",
      "  -3.57770876e+09 -7.15541753e+09]\n",
      " [ 7.15541753e+09  1.43108351e+10  0.00000000e+00  0.00000000e+00\n",
      "  -7.15541753e+09 -1.43108351e+10]\n",
      " [ 0.00000000e+00  0.00000000e+00  0.00000000e+00  0.00000000e+00\n",
      "   0.00000000e+00  0.00000000e+00]\n",
      " [ 0.00000000e+00  0.00000000e+00  0.00000000e+00  0.00000000e+00\n",
      "   0.00000000e+00  0.00000000e+00]\n",
      " [-3.57770876e+09 -7.15541753e+09  0.00000000e+00  0.00000000e+00\n",
      "   3.57770876e+09  7.15541753e+09]\n",
      " [-7.15541753e+09 -1.43108351e+10  0.00000000e+00  0.00000000e+00\n",
      "   7.15541753e+09  1.43108351e+10]]\n",
      "Global Stiffness : \n",
      " [[ 2.35777088e+10  7.15541753e+09 -2.00000000e+10  0.00000000e+00\n",
      "  -3.57770876e+09 -7.15541753e+09]\n",
      " [ 7.15541753e+09  1.43108351e+10  0.00000000e+00  0.00000000e+00\n",
      "  -7.15541753e+09 -1.43108351e+10]\n",
      " [-2.00000000e+10  0.00000000e+00  2.35777088e+10 -7.15541753e+09\n",
      "  -3.57770876e+09  7.15541753e+09]\n",
      " [ 0.00000000e+00  0.00000000e+00 -7.15541753e+09  1.43108351e+10\n",
      "   7.15541753e+09 -1.43108351e+10]\n",
      " [-3.57770876e+09 -7.15541753e+09 -3.57770876e+09  7.15541753e+09\n",
      "   7.15541753e+09  0.00000000e+00]\n",
      " [-7.15541753e+09 -1.43108351e+10  7.15541753e+09 -1.43108351e+10\n",
      "   0.00000000e+00  2.86216701e+10]]\n",
      "### Fin de l'assemblage ###\n",
      "Global Stiffness : \n",
      " [[ 2.35777088e+10  7.15541753e+09 -2.00000000e+10  0.00000000e+00\n",
      "  -3.57770876e+09 -7.15541753e+09]\n",
      " [ 7.15541753e+09  1.43108351e+10  0.00000000e+00  0.00000000e+00\n",
      "  -7.15541753e+09 -1.43108351e+10]\n",
      " [-2.00000000e+10  0.00000000e+00  2.35777088e+10 -7.15541753e+09\n",
      "  -3.57770876e+09  7.15541753e+09]\n",
      " [ 0.00000000e+00  0.00000000e+00 -7.15541753e+09  1.43108351e+10\n",
      "   7.15541753e+09 -1.43108351e+10]\n",
      " [-3.57770876e+09 -7.15541753e+09 -3.57770876e+09  7.15541753e+09\n",
      "   7.15541753e+09  0.00000000e+00]\n",
      " [-7.15541753e+09 -1.43108351e+10  7.15541753e+09 -1.43108351e+10\n",
      "   0.00000000e+00  2.86216701e+10]]\n",
      "determinant : 14797056634707.844\n",
      "k :  [[ 2.35777088e+10 -7.15541753e+09 -3.57770876e+09  7.15541753e+09]\n",
      " [-7.15541753e+09  1.43108351e+10  7.15541753e+09 -1.43108351e+10]\n",
      " [-3.57770876e+09  7.15541753e+09  7.15541753e+09  0.00000000e+00]\n",
      " [ 7.15541753e+09 -1.43108351e+10  0.00000000e+00  2.86216701e+10]]\n",
      "[ 0.  0. 40.  0.]\n",
      "[-3.56881255e-10  4.57643586e+07 -4.57643586e+07  2.28821793e+07]\n",
      "K_glob \n",
      " : [[ 2.35777088e+10 -7.15541753e+09 -3.57770876e+09  7.15541753e+09]\n",
      " [-7.15541753e+09  1.43108351e+10  7.15541753e+09 -1.43108351e+10]\n",
      " [-3.57770876e+09  7.15541753e+09  7.15541753e+09  0.00000000e+00]\n",
      " [ 7.15541753e+09 -1.43108351e+10  0.00000000e+00  2.86216701e+10]]\n",
      "F \n",
      " : [ 0.  0. 40.  0.]\n",
      "Deplacement : \n",
      " [-3.56881255e-10  4.57643586e+07 -4.57643586e+07  2.28821793e+07]\n",
      "Deplacement : \n",
      " [ 0.00000000e+00  0.00000000e+00 -3.56881255e-10  4.57643586e+07\n",
      " -4.57643586e+07  2.28821793e+07]\n",
      "Reaction : \n",
      " [ -56.8623749 -128.          64.        -128.         -40.\n",
      "  256.       ]\n",
      "Calcul des contraintes (en MPa) : \n",
      " [[ 0.00000000e+00]\n",
      " [-7.13762510e-05]\n",
      " [ 9.15287172e+12]]\n"
     ]
    }
   ],
   "source": [
    "import matplotlib.pyplot as plt\n",
    "from matplotlib.colors import Normalize\n",
    "from matplotlib.cm import ScalarMappable\n",
    "import numpy as np\n",
    "from numpy.linalg import inv\n",
    "\n",
    "### Etape 1 : on defini notre geometrie\n",
    "cas = 3\n",
    "if cas == 1 : \n",
    "    NL = np.array([[0,0],\n",
    "              [1,0],\n",
    "              [2,0]])\n",
    "    EL = np.array([[1,2],\n",
    "              [2,3]])\n",
    "elif cas == 2 :\n",
    "    NL = np.array([[1,0],\n",
    "                  [2,0],\n",
    "                  [3,0],\n",
    "                  [4,0],\n",
    "                  [5,0]])\n",
    "    EL = np.array([[1,2],\n",
    "                  [2,3],\n",
    "                  [3,4],\n",
    "                  [4,5]])\n",
    "elif cas == 3 :\n",
    "    NL = np.array([[0,0],\n",
    "              [1,0],\n",
    "              [0.5,1]])\n",
    "    EL = np.array([[1,2],\n",
    "              [2,3],\n",
    "                [3,1]])\n",
    "\n",
    "NoN = len(NL) # Nombre de noeuds\n",
    "NoE = len(EL) # Nombre d'elements\n",
    "print(\"Nombre de noeuds :\", NoN)\n",
    "print(\"Nombre de elements :\", NoE)\n",
    "\n",
    "def geom(NL) : \n",
    "\tx = [x for x in NL[:,0]]\n",
    "\ty = [y for y in NL[:,1]]\n",
    "\tsize = 400\n",
    "\toffset = size/40000.\n",
    "\tplt.scatter(x, y, c='y', s=size, zorder=5)\n",
    "\tfor i, location in enumerate(zip(x,y)):\n",
    "\t\tplt.annotate(i+1, (location[0]-offset, location[1]-offset), zorder=10)\n",
    "geom(NL)\n",
    "\n",
    "### Etapte 2 : On calcule la matrice de raideur dans le repere local dans les coordonnees locales\n",
    "\n",
    "E = 200e9 # Module D'Young [en Pa]\n",
    "S = 100e-3 # Section [en m^2]\n",
    "#L = 1 # Longueur d'un element [en m]\n",
    "q = 20 # Charge repartie (en N/m)\n",
    "\n",
    "%run Fonctions.ipynb\n",
    "\n",
    "K_elem = E*S/L*np.array([[1, 0 , -1, 0],\n",
    "                         [0, 0 , 0, 0],\n",
    "                        [-1, 0, 1, 0],\n",
    "                        [0, 0 , 0 , 0]])\n",
    "\n",
    "def K_elem(L_e) :\n",
    "    K_elem = E*S/L_e*np.array([[1, 0 , -1, 0],\n",
    "                         [0, 0 , 0, 0],\n",
    "                        [-1, 0, 1, 0],\n",
    "                        [0, 0 , 0 , 0]])\n",
    "    return K_elem\n",
    "\n",
    "### Etape 3 : On passe la matrice de raideur dans les coordonnees globale (on fait des rotations)\n",
    "\n",
    "matrices_de_passage = changement_coord(NL,EL)\n",
    "for x in matrices_de_passage : \n",
    "    print(x)\n",
    "\n",
    "K_glob = assemblage_2D(K_elem,matrices_de_passage,NL,EL)\n",
    "\n",
    "BC = np.array([[0. , 0., 0., 0.],\n",
    "              [0. , 0., 0., 0.],\n",
    "              [1. , 0., 0., 0.],\n",
    "              [0., 1., 0., 0.],\n",
    "              [0., 0., 1., 0.],\n",
    "              [0., 0.,0., 1.]])\n",
    "F = np.array([0, 0, 0, 0, 40, 0])\n",
    "#BC = bc(NoN)\n",
    "#F = apply_forces_poutre(NoN)\n",
    "\n",
    "U = solve(K_glob,F,BC)\n",
    "\n",
    "K_glob_r = np.transpose(BC).dot(K_glob).dot(BC)\n",
    "F_r = np.transpose(BC).dot(F)\n",
    "print(\"K_glob \\n :\",K_glob_r)\n",
    "print(\"F \\n :\",F_r)\n",
    "\n",
    "### Etape 7 : Resolution\n",
    "\n",
    "U_r = inv(K_glob_r).dot(F_r)\n",
    "print(\"Deplacement : \\n\", U_r)\n",
    "U = BC.dot(U_r)\n",
    "print(\"Deplacement : \\n\", U)\n",
    "\n",
    "### Etape 8 : Calcul force reaction\n",
    "\n",
    "React = K_glob.dot(U) - F\n",
    "print(\"Reaction : \\n\", React)\n",
    "\n",
    "### Etape 9 : Calcul des contraintes\n",
    "# On recalcule les déplacements locaux\n",
    "u = R(0).dot(U[0:4])\n",
    "#f = K_elem.dot(u)\n",
    "\n",
    "sigma = stress_barre(u)\n",
    "print(\"Calcul des contraintes (en MPa) : \\n\",sigma/1e6)"
   ]
  },
  {
   "cell_type": "code",
   "execution_count": 67,
   "id": "8535eb84-7f6a-4595-a702-31877bf525b4",
   "metadata": {},
   "outputs": [
    {
     "name": "stdout",
     "output_type": "stream",
     "text": [
      "[ 0.00000000e+00 -3.56881255e-10 -4.57643586e+07]\n",
      "[       0.         45764358.57944535 22882179.28972268]\n"
     ]
    },
    {
     "data": {
      "text/plain": [
       "<matplotlib.collections.PathCollection at 0x29a3d757b50>"
      ]
     },
     "execution_count": 67,
     "metadata": {},
     "output_type": "execute_result"
    },
    {
     "data": {
      "image/png": "[encoded data removed]",
      "text/plain": [
       "<Figure size 432x288 with 1 Axes>"
      ]
     },
     "metadata": {
      "needs_background": "light"
     },
     "output_type": "display_data"
    },
    {
     "data": {
      "image/png": "[encoded data removed]",
      "text/plain": [
       "<Figure size 432x288 with 1 Axes>"
      ]
     },
     "metadata": {
      "needs_background": "light"
     },
     "output_type": "display_data"
    }
   ],
   "source": [
    "scale = 100\n",
    "\n",
    "plt.figure(1)\n",
    "plt.scatter(NL[:,0],NL[:,1])\n",
    "print(U[::2])\n",
    "print(U[1::2])\n",
    "\n",
    "plt.figure(2)\n",
    "plt.scatter(NL[:,0]+scale*U[::2].flatten(),NL[:,1]+scale*U[1::2].flatten())"
   ]
  },
  {
   "cell_type": "code",
   "execution_count": null,
   "id": "8ad7f8e0-4f28-4a8e-b224-8c71045caf2d",
   "metadata": {},
   "outputs": [],
   "source": []
  },
  {
   "cell_type": "code",
   "execution_count": 44,
   "id": "df6fee58-0f32-4328-b050-0604ac046846",
   "metadata": {},
   "outputs": [
    {
     "name": "stdout",
     "output_type": "stream",
     "text": [
      "Nombre de noeuds : 3\n",
      "Nombre de elements : 3\n"
     ]
    },
    {
     "data": {
      "image/png": "[encoded data removed]",
      "text/plain": [
       "<Figure size 432x288 with 1 Axes>"
      ]
     },
     "metadata": {
      "needs_background": "light"
     },
     "output_type": "display_data"
    },
    {
     "name": "stdout",
     "output_type": "stream",
     "text": [
      "[[1. 0. 0. 0.]\n",
      " [0. 1. 0. 0.]\n",
      " [0. 0. 1. 0.]\n",
      " [0. 0. 0. 1.]\n",
      " [0. 0. 0. 0.]\n",
      " [0. 0. 0. 0.]]\n",
      "[[0. 0. 0. 0.]\n",
      " [0. 0. 0. 0.]\n",
      " [1. 0. 0. 0.]\n",
      " [0. 1. 0. 0.]\n",
      " [0. 0. 1. 0.]\n",
      " [0. 0. 0. 1.]]\n",
      "[[0. 0. 1. 0.]\n",
      " [0. 0. 0. 1.]\n",
      " [0. 0. 0. 0.]\n",
      " [0. 0. 0. 0.]\n",
      " [1. 0. 0. 0.]\n",
      " [0. 1. 0. 0.]]\n",
      " ### Debut de l'assemblage ###\n",
      "Global Stiffness : \n",
      " [[0. 0. 0. 0. 0. 0.]\n",
      " [0. 0. 0. 0. 0. 0.]\n",
      " [0. 0. 0. 0. 0. 0.]\n",
      " [0. 0. 0. 0. 0. 0.]\n",
      " [0. 0. 0. 0. 0. 0.]\n",
      " [0. 0. 0. 0. 0. 0.]]\n",
      "traitement de l'element :  1\n",
      "1 2\n",
      "matrice rotation : \n",
      " [[ 1.  0.  0.  0.]\n",
      " [-0.  1.  0.  0.]\n",
      " [ 0.  0.  1.  0.]\n",
      " [ 0.  0. -0.  1.]]\n",
      "matrice rotation : \n",
      " [[ 20000000.         0. -20000000.         0.]\n",
      " [        0.         0.         0.         0.]\n",
      " [-20000000.         0.  20000000.         0.]\n",
      " [        0.         0.         0.         0.]]\n",
      "[[ 20000000.         0. -20000000.         0.         0.         0.]\n",
      " [        0.         0.         0.         0.         0.         0.]\n",
      " [-20000000.         0.  20000000.         0.         0.         0.]\n",
      " [        0.         0.         0.         0.         0.         0.]\n",
      " [        0.         0.         0.         0.         0.         0.]\n",
      " [        0.         0.         0.         0.         0.         0.]]\n",
      "Global Stiffness : \n",
      " [[ 20000000.         0. -20000000.         0.         0.         0.]\n",
      " [        0.         0.         0.         0.         0.         0.]\n",
      " [-20000000.         0.  20000000.         0.         0.         0.]\n",
      " [        0.         0.         0.         0.         0.         0.]\n",
      " [        0.         0.         0.         0.         0.         0.]\n",
      " [        0.         0.         0.         0.         0.         0.]]\n",
      "traitement de l'element :  2\n",
      "2 3\n",
      "matrice rotation : \n",
      " [[-0.4472136   0.89442719  0.          0.        ]\n",
      " [-0.89442719 -0.4472136   0.          0.        ]\n",
      " [ 0.          0.         -0.4472136   0.89442719]\n",
      " [ 0.          0.         -0.89442719 -0.4472136 ]]\n",
      "matrice rotation : \n",
      " [[  4000000.  -8000000.  -4000000.   8000000.]\n",
      " [ -8000000.  16000000.   8000000. -16000000.]\n",
      " [ -4000000.   8000000.   4000000.  -8000000.]\n",
      " [  8000000. -16000000.  -8000000.  16000000.]]\n",
      "[[        0.         0.         0.         0.         0.         0.]\n",
      " [        0.         0.         0.         0.         0.         0.]\n",
      " [        0.         0.   4000000.  -8000000.  -4000000.   8000000.]\n",
      " [        0.         0.  -8000000.  16000000.   8000000. -16000000.]\n",
      " [        0.         0.  -4000000.   8000000.   4000000.  -8000000.]\n",
      " [        0.         0.   8000000. -16000000.  -8000000.  16000000.]]\n",
      "Global Stiffness : \n",
      " [[ 20000000.         0. -20000000.         0.         0.         0.]\n",
      " [        0.         0.         0.         0.         0.         0.]\n",
      " [-20000000.         0.  24000000.  -8000000.  -4000000.   8000000.]\n",
      " [        0.         0.  -8000000.  16000000.   8000000. -16000000.]\n",
      " [        0.         0.  -4000000.   8000000.   4000000.  -8000000.]\n",
      " [        0.         0.   8000000. -16000000.  -8000000.  16000000.]]\n",
      "traitement de l'element :  3\n",
      "3 1\n",
      "matrice rotation : \n",
      " [[-0.4472136  -0.89442719  0.          0.        ]\n",
      " [ 0.89442719 -0.4472136   0.          0.        ]\n",
      " [ 0.          0.         -0.4472136  -0.89442719]\n",
      " [ 0.          0.          0.89442719 -0.4472136 ]]\n",
      "matrice rotation : \n",
      " [[  4000000.   8000000.  -4000000.  -8000000.]\n",
      " [  8000000.  16000000.  -8000000. -16000000.]\n",
      " [ -4000000.  -8000000.   4000000.   8000000.]\n",
      " [ -8000000. -16000000.   8000000.  16000000.]]\n",
      "[[  4000000.   8000000.         0.         0.  -4000000.  -8000000.]\n",
      " [  8000000.  16000000.         0.         0.  -8000000. -16000000.]\n",
      " [        0.         0.         0.         0.         0.         0.]\n",
      " [        0.         0.         0.         0.         0.         0.]\n",
      " [ -4000000.  -8000000.         0.         0.   4000000.   8000000.]\n",
      " [ -8000000. -16000000.         0.         0.   8000000.  16000000.]]\n",
      "Global Stiffness : \n",
      " [[ 24000000.   8000000. -20000000.         0.  -4000000.  -8000000.]\n",
      " [  8000000.  16000000.         0.         0.  -8000000. -16000000.]\n",
      " [-20000000.         0.  24000000.  -8000000.  -4000000.   8000000.]\n",
      " [        0.         0.  -8000000.  16000000.   8000000. -16000000.]\n",
      " [ -4000000.  -8000000.  -4000000.   8000000.   8000000.         0.]\n",
      " [ -8000000. -16000000.   8000000. -16000000.         0.  32000000.]]\n",
      "### Fin de l'assemblage ###\n",
      "Global Stiffness : \n",
      " [[ 24000000.   8000000. -20000000.         0.  -4000000.  -8000000.]\n",
      " [  8000000.  16000000.         0.         0.  -8000000. -16000000.]\n",
      " [-20000000.         0.  24000000.  -8000000.  -4000000.   8000000.]\n",
      " [        0.         0.  -8000000.  16000000.   8000000. -16000000.]\n",
      " [ -4000000.  -8000000.  -4000000.   8000000.   8000000.         0.]\n",
      " [ -8000000. -16000000.   8000000. -16000000.         0.  32000000.]]\n",
      "determinant : 7.888609052210098e-06\n",
      "BC : \n",
      " [[1. 0. 0. 0. 0. 0.]\n",
      " [0. 1. 0. 0. 0. 0.]\n",
      " [0. 0. 1. 0. 0. 0.]\n",
      " [0. 0. 0. 1. 0. 0.]\n",
      " [0. 0. 0. 0. 1. 0.]\n",
      " [0. 0. 0. 0. 0. 1.]]\n"
     ]
    },
    {
     "name": "stdin",
     "output_type": "stream",
     "text": [
      "Combien de ddl a bloquer ? 2\n",
      "element concerne ? 1\n",
      "0 = u, 1 = v 0\n",
      "element concerne ? 1\n",
      "0 = u, 1 = v 1\n"
     ]
    },
    {
     "name": "stdout",
     "output_type": "stream",
     "text": [
      "BC : \n",
      " [[0. 0. 0. 0.]\n",
      " [0. 0. 0. 0.]\n",
      " [1. 0. 0. 0.]\n",
      " [0. 1. 0. 0.]\n",
      " [0. 0. 1. 0.]\n",
      " [0. 0. 0. 1.]]\n",
      "k :  [[ 24000000.  -8000000.  -4000000.   8000000.]\n",
      " [ -8000000.  16000000.   8000000. -16000000.]\n",
      " [ -4000000.   8000000.   8000000.         0.]\n",
      " [  8000000. -16000000.         0.  32000000.]]\n",
      "[ 0.  0. 40. 20.]\n",
      "[-1.60200745e-06  3.29760743e+10 -3.29760743e+10  1.64880372e+10]\n"
     ]
    }
   ],
   "source": [
    "\n"
   ]
  }
 ],
 "metadata": {
  "kernelspec": {
   "display_name": "Python 3",
   "language": "python",
   "name": "python3"
  },
  "language_info": {
   "codemirror_mode": {
    "name": "ipython",
    "version": 3
   },
   "file_extension": ".py",
   "mimetype": "text/x-python",
   "name": "python",
   "nbconvert_exporter": "python",
   "pygments_lexer": "ipython3",
   "version": "3.8.8"
  }
 },
 "nbformat": 4,
 "nbformat_minor": 5
}
