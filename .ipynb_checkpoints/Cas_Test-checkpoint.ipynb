{
 "cells": [
  {
   "cell_type": "code",
   "execution_count": null,
   "id": "726ea1a5-031e-4158-bc9f-98ef74fc3998",
   "metadata": {},
   "outputs": [],
   "source": [
    "if cas == 1 : \n",
    "    NL = np.array([[0,0],\n",
    "              [1,0],\n",
    "              [2,0]])\n",
    "    EL = np.array([[1,2],\n",
    "              [2,3]])\n",
    "elif cas == 2 :\n",
    "    NL = np.array([[1,0],\n",
    "                  [2,0],\n",
    "                  [3,0],\n",
    "                  [4,0],\n",
    "                  [5,0]])\n",
    "    EL = np.array([[1,2],\n",
    "                  [2,3],\n",
    "                  [3,4],\n",
    "                  [4,5]])\n",
    "elif cas == 3 :\n",
    "    NL = np.array([[0,0],\n",
    "              [1,0],\n",
    "              [0.5,1]])\n",
    "    EL = np.array([[1,2],\n",
    "              [2,3],\n",
    "                [3,1]])\n",
    "elif cas == 4 : #support catenaire\n",
    "    NL = np.array([[0,0],\n",
    "              [0,2],\n",
    "              [0,3],\n",
    "                 [1,3]])\n",
    "    EL = np.array([[1,2],\n",
    "              [2,3],\n",
    "                [3,4],\n",
    "                  [4,2]])"
   ]
  },
  {
   "cell_type": "markdown",
   "id": "4a61e48c-26bd-4aac-beea-4217ffb7d252",
   "metadata": {},
   "source": [
    "# Fonctions"
   ]
  },
  {
   "cell_type": "code",
   "execution_count": null,
   "id": "a7913a62-2cdd-47e6-9161-0c431c07665e",
   "metadata": {},
   "outputs": [],
   "source": [
    "def geom(NL) : \n",
    "    x = [x for x in NL[:,0]]\n",
    "    y = [y for y in NL[:,1]]\n",
    "    size = 200\n",
    "    offset = size/40000.\n",
    "    plt.scatter(x, y, c='y', s=size, zorder=5)\n",
    "    for i, location in enumerate(zip(x,y)):\n",
    "        plt.annotate(i+1, (location[0]-offset, location[1]-offset), zorder=10)\n",
    "    for i in range(len(EL)) :\n",
    "        xi,xj = NL[EL[i,0]-1,0],NL[EL[i,1]-1,0]\n",
    "        yi,yj = NL[EL[i,0]-1,1],NL[EL[i,1]-1,1]\n",
    "        plt.plot([xi,xj],[yi,yj],color = 'k', lw = 1, linestyle = '--')\n",
    "    plt.axis('equal')"
   ]
  }
 ],
 "metadata": {
  "kernelspec": {
   "display_name": "Python 3",
   "language": "python",
   "name": "python3"
  },
  "language_info": {
   "codemirror_mode": {
    "name": "ipython",
    "version": 3
   },
   "file_extension": ".py",
   "mimetype": "text/x-python",
   "name": "python",
   "nbconvert_exporter": "python",
   "pygments_lexer": "ipython3",
   "version": "3.8.8"
  }
 },
 "nbformat": 4,
 "nbformat_minor": 5
}
