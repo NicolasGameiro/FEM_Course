{
 "cells": [
  {
   "cell_type": "code",
   "execution_count": 1,
   "id": "fb05d68e-a00e-49ff-81bb-ca1419778823",
   "metadata": {},
   "outputs": [
    {
     "name": "stdout",
     "output_type": "stream",
     "text": [
      "Liste des noeuds :\n",
      " [['0' '0' '0']\n",
      " ['1' '0' '0']\n",
      " ['2' '0' '0']\n",
      " ['3' '0' '0']\n",
      " ['4' '0' '0']\n",
      " ['0' '1' '0']\n",
      " ['1' '1' '0']\n",
      " ['2' '1' '0']\n",
      " ['3' '1' '0']\n",
      " ['4' '1' '0']\n",
      " ['0' '2' '0']\n",
      " ['1' '2' '0']\n",
      " ['2' '2' '0']\n",
      " ['3' '2' '0']\n",
      " ['4' '2' '0']\n",
      " ['0' '3' '0']\n",
      " ['1' '3' '0']\n",
      " ['2' '3' '0']\n",
      " ['3' '3' '0']\n",
      " ['4' '3' '0']]\n",
      "Liste des elements :\n",
      " [['6' '1' '2']\n",
      " ['7' '6' '2']\n",
      " ['7' '11' '6']\n",
      " ['12' '11' '7']\n",
      " ['16' '11' '12']\n",
      " ['16' '12' '17']\n",
      " ['7' '2' '3']\n",
      " ['8' '7' '3']\n",
      " ['8' '12' '7']\n",
      " ['13' '12' '8']\n",
      " ['17' '12' '13']\n",
      " ['17' '13' '18']\n",
      " ['8' '3' '4']\n",
      " ['9' '8' '4']\n",
      " ['9' '13' '8']\n",
      " ['14' '13' '9']\n",
      " ['18' '13' '14']\n",
      " ['18' '14' '19']\n",
      " ['9' '4' '5']\n",
      " ['10' '9' '5']\n",
      " ['10' '14' '9']\n",
      " ['15' '14' '10']\n",
      " ['19' '14' '15']\n",
      " ['19' '15' '20']]\n",
      "probleme annotation\n"
     ]
    },
    {
     "ename": "TypeError",
     "evalue": "unsupported operand type(s) for -: 'numpy.str_' and 'int'",
     "output_type": "error",
     "traceback": [
      "\u001b[1;31m---------------------------------------------------------------------------\u001b[0m",
      "\u001b[1;31mTypeError\u001b[0m                                 Traceback (most recent call last)",
      "\u001b[1;32m<ipython-input-1-2c0801493956>\u001b[0m in \u001b[0;36m<module>\u001b[1;34m\u001b[0m\n\u001b[0;32m     26\u001b[0m     \u001b[0mplt\u001b[0m\u001b[1;33m.\u001b[0m\u001b[0maxis\u001b[0m\u001b[1;33m(\u001b[0m\u001b[1;34m'equal'\u001b[0m\u001b[1;33m)\u001b[0m\u001b[1;33m\u001b[0m\u001b[1;33m\u001b[0m\u001b[0m\n\u001b[0;32m     27\u001b[0m \u001b[1;33m\u001b[0m\u001b[0m\n\u001b[1;32m---> 28\u001b[1;33m \u001b[0mgeom\u001b[0m\u001b[1;33m(\u001b[0m\u001b[0mNL\u001b[0m\u001b[1;33m)\u001b[0m\u001b[1;33m\u001b[0m\u001b[1;33m\u001b[0m\u001b[0m\n\u001b[0m",
      "\u001b[1;32m<ipython-input-1-2c0801493956>\u001b[0m in \u001b[0;36mgeom\u001b[1;34m(NL)\u001b[0m\n\u001b[0;32m     21\u001b[0m     \u001b[1;31m### Gerer les elements triangles en 2D\u001b[0m\u001b[1;33m\u001b[0m\u001b[1;33m\u001b[0m\u001b[1;33m\u001b[0m\u001b[0m\n\u001b[0;32m     22\u001b[0m     \u001b[1;32mfor\u001b[0m \u001b[0mi\u001b[0m \u001b[1;32min\u001b[0m \u001b[0mrange\u001b[0m\u001b[1;33m(\u001b[0m\u001b[0mlen\u001b[0m\u001b[1;33m(\u001b[0m\u001b[0mEL\u001b[0m\u001b[1;33m)\u001b[0m\u001b[1;33m)\u001b[0m \u001b[1;33m:\u001b[0m\u001b[1;33m\u001b[0m\u001b[1;33m\u001b[0m\u001b[0m\n\u001b[1;32m---> 23\u001b[1;33m         \u001b[0mxi\u001b[0m\u001b[1;33m,\u001b[0m\u001b[0mxj\u001b[0m \u001b[1;33m=\u001b[0m \u001b[0mNL\u001b[0m\u001b[1;33m[\u001b[0m\u001b[0mEL\u001b[0m\u001b[1;33m[\u001b[0m\u001b[0mi\u001b[0m\u001b[1;33m,\u001b[0m\u001b[1;36m0\u001b[0m\u001b[1;33m]\u001b[0m\u001b[1;33m-\u001b[0m\u001b[1;36m1\u001b[0m\u001b[1;33m,\u001b[0m\u001b[1;36m0\u001b[0m\u001b[1;33m]\u001b[0m\u001b[1;33m,\u001b[0m\u001b[0mNL\u001b[0m\u001b[1;33m[\u001b[0m\u001b[0mEL\u001b[0m\u001b[1;33m[\u001b[0m\u001b[0mi\u001b[0m\u001b[1;33m,\u001b[0m\u001b[1;36m1\u001b[0m\u001b[1;33m]\u001b[0m\u001b[1;33m-\u001b[0m\u001b[1;36m1\u001b[0m\u001b[1;33m,\u001b[0m\u001b[1;36m0\u001b[0m\u001b[1;33m]\u001b[0m\u001b[1;33m\u001b[0m\u001b[1;33m\u001b[0m\u001b[0m\n\u001b[0m\u001b[0;32m     24\u001b[0m         \u001b[0myi\u001b[0m\u001b[1;33m,\u001b[0m\u001b[0myj\u001b[0m \u001b[1;33m=\u001b[0m \u001b[0mNL\u001b[0m\u001b[1;33m[\u001b[0m\u001b[0mEL\u001b[0m\u001b[1;33m[\u001b[0m\u001b[0mi\u001b[0m\u001b[1;33m,\u001b[0m\u001b[1;36m0\u001b[0m\u001b[1;33m]\u001b[0m\u001b[1;33m-\u001b[0m\u001b[1;36m1\u001b[0m\u001b[1;33m,\u001b[0m\u001b[1;36m1\u001b[0m\u001b[1;33m]\u001b[0m\u001b[1;33m,\u001b[0m\u001b[0mNL\u001b[0m\u001b[1;33m[\u001b[0m\u001b[0mEL\u001b[0m\u001b[1;33m[\u001b[0m\u001b[0mi\u001b[0m\u001b[1;33m,\u001b[0m\u001b[1;36m1\u001b[0m\u001b[1;33m]\u001b[0m\u001b[1;33m-\u001b[0m\u001b[1;36m1\u001b[0m\u001b[1;33m,\u001b[0m\u001b[1;36m1\u001b[0m\u001b[1;33m]\u001b[0m\u001b[1;33m\u001b[0m\u001b[1;33m\u001b[0m\u001b[0m\n\u001b[0;32m     25\u001b[0m         \u001b[0mplt\u001b[0m\u001b[1;33m.\u001b[0m\u001b[0mplot\u001b[0m\u001b[1;33m(\u001b[0m\u001b[1;33m[\u001b[0m\u001b[0mxi\u001b[0m\u001b[1;33m,\u001b[0m\u001b[0mxj\u001b[0m\u001b[1;33m]\u001b[0m\u001b[1;33m,\u001b[0m\u001b[1;33m[\u001b[0m\u001b[0myi\u001b[0m\u001b[1;33m,\u001b[0m\u001b[0myj\u001b[0m\u001b[1;33m]\u001b[0m\u001b[1;33m,\u001b[0m\u001b[0mcolor\u001b[0m \u001b[1;33m=\u001b[0m \u001b[1;34m'k'\u001b[0m\u001b[1;33m,\u001b[0m \u001b[0mlw\u001b[0m \u001b[1;33m=\u001b[0m \u001b[1;36m1\u001b[0m\u001b[1;33m,\u001b[0m \u001b[0mlinestyle\u001b[0m \u001b[1;33m=\u001b[0m \u001b[1;34m'--'\u001b[0m\u001b[1;33m)\u001b[0m\u001b[1;33m\u001b[0m\u001b[1;33m\u001b[0m\u001b[0m\n",
      "\u001b[1;31mTypeError\u001b[0m: unsupported operand type(s) for -: 'numpy.str_' and 'int'"
     ]
    },
    {
     "data": {
      "image/png": "[encoded data removed]",
      "text/plain": [
       "<Figure size 432x288 with 1 Axes>"
      ]
     },
     "metadata": {
      "needs_background": "light"
     },
     "output_type": "display_data"
    }
   ],
   "source": [
    "%run src\\Reader.ipynb\n",
    "\n",
    "import matplotlib.pyplot as plt\n",
    "\n",
    "filename = \"mesh/rectangle.msh\"\n",
    "NL,EL = Read_Node_List(filename)\n",
    "print(\"Liste des noeuds :\\n\",NL)\n",
    "print(\"Liste des elements :\\n\",EL)\n",
    "\n",
    "def geom(NL) : \n",
    "    x = [x for x in NL[:,0]]\n",
    "    y = [y for y in NL[:,1]]\n",
    "    size = 200\n",
    "    offset = size/40000.\n",
    "    plt.scatter(x, y, c='b', s=size, zorder=5)\n",
    "    try : \n",
    "        for i, location in enumerate(zip(x,y)):\n",
    "            plt.annotate(i+1,(location[0]-offset, location[1]-offset), zorder=10)\n",
    "    except : \n",
    "        print(\"probleme annotation\")\n",
    "    ### Gerer les elements triangles en 2D\n",
    "    for i in range(len(EL)) :\n",
    "        xi,xj = NL[EL[i,0]-1,0],NL[EL[i,1]-1,0]\n",
    "        yi,yj = NL[EL[i,0]-1,1],NL[EL[i,1]-1,1]\n",
    "        plt.plot([xi,xj],[yi,yj],color = 'k', lw = 1, linestyle = '--')\n",
    "    plt.axis('equal')\n",
    "    \n",
    "geom(NL)"
   ]
  }
 ],
 "metadata": {
  "kernelspec": {
   "display_name": "Python 3",
   "language": "python",
   "name": "python3"
  },
  "language_info": {
   "codemirror_mode": {
    "name": "ipython",
    "version": 3
   },
   "file_extension": ".py",
   "mimetype": "text/x-python",
   "name": "python",
   "nbconvert_exporter": "python",
   "pygments_lexer": "ipython3",
   "version": "3.8.8"
  }
 },
 "nbformat": 4,
 "nbformat_minor": 5
}
