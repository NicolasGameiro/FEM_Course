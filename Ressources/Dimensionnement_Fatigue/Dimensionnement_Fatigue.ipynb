{
 "cells": [
  {
   "cell_type": "markdown",
   "id": "3ddf4653-bbff-432b-8be2-90196f4a63a1",
   "metadata": {},
   "source": [
    "# Dimensionnement en fatigue"
   ]
  },
  {
   "cell_type": "markdown",
   "id": "a2df8780-bd84-44a4-8f5a-f8a5dbe9d49f",
   "metadata": {},
   "source": [
    "## Courbe de Wohler ou courbe S-N\n",
    "\n",
    "la **courbe de Wohler** aussi appelée **courbe S-N** est une courbe qui représente la contrainte à la rupture en fonction du nombre de cycle subit par une pièce pour un matériau et chargement donné. \n",
    "\n",
    "On peut distingué 3 domaines sur cette courbe : \n",
    "- Le domaine oligocyclique : $N < 10^5$\n",
    "- Le domaine d'endurance limité : $10^5 < N < 10^7$\n",
    "- Le domaine d'endurance illimité : $10^7 < N$"
   ]
  },
  {
   "cell_type": "markdown",
   "id": "bc928cf7-8348-457d-8257-c658cf2d0fd7",
   "metadata": {},
   "source": [
    "## Sources\n",
    "\n",
    "### Webinar Technique de l'ingénieur x Cetim \n",
    "- [Découverte de la fatigue des matériaux](https://www.youtube.com/watch?v=gxDnTCulb1M)\n",
    "- [Découverte de la fatigue des matériaux : Définition, vocabulaire et faciès de rupture (Cetim)](https://www.youtube.com/watch?v=Z70fNk0rSD4)\n",
    "\n",
    "### Cours\n",
    "- <https://www.cours-et-exercices.com/2016/05/calcul-de-resistance-en-fatigue.html>\n",
    "\n",
    "### Github\n",
    "\n",
    "- <https://github.com/boschresearch/pylife>"
   ]
  },
  {
   "cell_type": "code",
   "execution_count": null,
   "id": "e1ee02a2-7b1e-4b6f-bfce-adc08134da46",
   "metadata": {},
   "outputs": [],
   "source": []
  }
 ],
 "metadata": {
  "kernelspec": {
   "display_name": "Python 3",
   "language": "python",
   "name": "python3"
  },
  "language_info": {
   "codemirror_mode": {
    "name": "ipython",
    "version": 3
   },
   "file_extension": ".py",
   "mimetype": "text/x-python",
   "name": "python",
   "nbconvert_exporter": "python",
   "pygments_lexer": "ipython3",
   "version": "3.8.8"
  }
 },
 "nbformat": 4,
 "nbformat_minor": 5
}
