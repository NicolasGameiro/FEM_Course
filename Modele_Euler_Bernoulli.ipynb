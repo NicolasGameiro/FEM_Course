{
 "cells": [
  {
   "cell_type": "code",
   "execution_count": 3,
   "id": "dcc49aa2-194c-4a21-86cc-3db4182e882c",
   "metadata": {},
   "outputs": [
    {
     "name": "stdout",
     "output_type": "stream",
     "text": [
      "Nombre de noeuds : 3\n",
      "Nombre de elements : 2\n"
     ]
    },
    {
     "ename": "TypeError",
     "evalue": "assemblage_2D() takes 3 positional arguments but 4 were given",
     "output_type": "error",
     "traceback": [
      "\u001b[1;31m---------------------------------------------------------------------------\u001b[0m",
      "\u001b[1;31mTypeError\u001b[0m                                 Traceback (most recent call last)",
      "\u001b[1;32m<ipython-input-3-78f10f434ebd>\u001b[0m in \u001b[0;36m<module>\u001b[1;34m\u001b[0m\n\u001b[0;32m     47\u001b[0m \u001b[1;33m\u001b[0m\u001b[0m\n\u001b[0;32m     48\u001b[0m \u001b[0mmatrices_de_passage\u001b[0m \u001b[1;33m=\u001b[0m \u001b[0mchangement_coord\u001b[0m\u001b[1;33m(\u001b[0m\u001b[0mNL\u001b[0m\u001b[1;33m,\u001b[0m\u001b[0mEL\u001b[0m\u001b[1;33m)\u001b[0m\u001b[1;33m\u001b[0m\u001b[1;33m\u001b[0m\u001b[0m\n\u001b[1;32m---> 49\u001b[1;33m \u001b[0mK_glob\u001b[0m \u001b[1;33m=\u001b[0m \u001b[0massemblage_2D\u001b[0m\u001b[1;33m(\u001b[0m\u001b[0mK_elem\u001b[0m\u001b[1;33m,\u001b[0m\u001b[0mmatrices_de_passage\u001b[0m\u001b[1;33m,\u001b[0m\u001b[0mNL\u001b[0m\u001b[1;33m,\u001b[0m\u001b[0mEL\u001b[0m\u001b[1;33m)\u001b[0m\u001b[1;33m\u001b[0m\u001b[1;33m\u001b[0m\u001b[0m\n\u001b[0m\u001b[0;32m     50\u001b[0m \u001b[1;33m\u001b[0m\u001b[0m\n\u001b[0;32m     51\u001b[0m BC = np.array([[0. , 0., 0., 0.],\n",
      "\u001b[1;31mTypeError\u001b[0m: assemblage_2D() takes 3 positional arguments but 4 were given"
     ]
    },
    {
     "data": {
      "image/png": "[encoded data removed]",
      "text/plain": [
       "<Figure size 432x288 with 1 Axes>"
      ]
     },
     "metadata": {
      "needs_background": "light"
     },
     "output_type": "display_data"
    }
   ],
   "source": [
    "import matplotlib.pyplot as plt\n",
    "from matplotlib.colors import Normalize\n",
    "from matplotlib.cm import ScalarMappable\n",
    "import numpy as np\n",
    "from numpy.linalg import inv\n",
    "\n",
    "### Etape 1 : on defini notre geometrie\n",
    "cas = 1\n",
    "%run src\\Cas_Test.ipynb\n",
    "%run src\\Fonctions.ipynb\n",
    "\n",
    "NoN = len(NL) # Nombre de noeuds\n",
    "NoE = len(EL) # Nombre d'elements\n",
    "print(\"Nombre de noeuds :\", NoN)\n",
    "print(\"Nombre de elements :\", NoE)\n",
    "    \n",
    "geom(NL)\n",
    "#plot_forces( NL, F)\n",
    "\n",
    "### Etapte 2 : On calcule la matrice de raideur dans le repere local dans les coordonnees locales\n",
    "\n",
    "E = 200e9 # Module D'Young [en Pa]\n",
    "rho = 7800 \n",
    "L = 1\n",
    "S = 100e-3 # Section [en m^2]\n",
    "I = 1 # Longueur d'un element [en m]\n",
    "q = 20 # Charge repartie (en N/m)\n",
    "\n",
    "K_elem = E*I/L**3*np.array([[12, 6*L , -12, 6*L],\n",
    "                            [6*L, 4*L**2 , -6*L, 2*L**2],\n",
    "                            [-12, -6*L, 12, -6*L],\n",
    "                            [6*L, 2*L**2 , -6*L , 4*L**2]])\n",
    "\n",
    "M_elem = rho*S*L/420*np.array([[156, 22*L, 54, -13*L],\n",
    "                              [22*L,4*L**2, 13*L, -3*L**2],\n",
    "                              [54, 13*L, 256, -22*L],\n",
    "                              [-13*L, -3*L**2, -22*L, 4*L**2]])\n",
    "\n",
    "def K_elem(L_e) :\n",
    "    K_elem = E*I/L_e**3*np.array([[12, 6*L , -12, 6*L],\n",
    "                            [6*L, 4*L**2 , -6*L, 2*L**2],\n",
    "                            [-12, -6*L, 12, -6*L],\n",
    "                            [6*L, 2*L**2 , -6*L , 4*L**2]])\n",
    "    return K_elem\n",
    "\n",
    "### Etape 3 : On passe la matrice de raideur dans les coordonnees globale (on fait des rotations)\n",
    "\n",
    "matrices_de_passage = changement_coord(NL,EL)\n",
    "K_glob = assemblage_2D(K_elem,matrices_de_passage,NL,EL)\n",
    "\n",
    "BC = np.array([[0. , 0., 0., 0.],\n",
    "              [0. , 0., 0., 0.],\n",
    "              [1. , 0., 0., 0.],\n",
    "              [0., 1., 0., 0.],\n",
    "              [0., 0., 1., 0.],\n",
    "              [0., 0.,0., 1.]])\n",
    "F = np.array([0, 0, 0, 0, 40, 0])\n",
    "BC = bc(NoN)\n",
    "F = apply_forces_poutre(NoN)\n",
    "\n",
    "U = solve(K_glob,F,BC)"
   ]
  },
  {
   "cell_type": "code",
   "execution_count": null,
   "id": "8e30afd8-7205-4ab8-abb7-34f0da0a1bc9",
   "metadata": {},
   "outputs": [],
   "source": []
  }
 ],
 "metadata": {
  "kernelspec": {
   "display_name": "Python 3",
   "language": "python",
   "name": "python3"
  },
  "language_info": {
   "codemirror_mode": {
    "name": "ipython",
    "version": 3
   },
   "file_extension": ".py",
   "mimetype": "text/x-python",
   "name": "python",
   "nbconvert_exporter": "python",
   "pygments_lexer": "ipython3",
   "version": "3.8.8"
  }
 },
 "nbformat": 4,
 "nbformat_minor": 5
}
