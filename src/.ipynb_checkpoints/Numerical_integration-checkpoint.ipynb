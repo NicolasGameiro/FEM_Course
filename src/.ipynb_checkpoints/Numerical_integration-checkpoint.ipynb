{
 "cells": [
  {
   "cell_type": "markdown",
   "id": "2a286ea9-6309-4062-afb1-ecfaf12e2ec0",
   "metadata": {},
   "source": [
    "### Intégration numérique\n",
    "\n",
    "Parfois les intégrales de fonctions sont difficilement calculables car la primitive est difficile à détermineer ou n'existe tout simplement pas\n",
    "\n",
    "On utilise des méthodes d'approximation tel que la méthode des points de Gauss\n",
    "\n",
    "$$ \\int_T f(x)dx = \\sum_i w_i f(x_i) $$\n",
    "\n",
    "avec $w_i$ les coefficients de poids et $x_i$ le point de gauss.\n",
    "\n",
    "On approxime l'intégrale par une somme en certains points pondérées par des coefficients."
   ]
  },
  {
   "cell_type": "code",
   "execution_count": 1,
   "id": "350b41ae-f931-46a2-86e3-bdf3f373c32e",
   "metadata": {},
   "outputs": [],
   "source": [
    "def gauss_point(pt) : \n",
    "    if pt == 1 :\n",
    "        w1 = 2\n",
    "    elif pt == 2 :\n",
    "        w1 = 1\n",
    "        w2 = 1\n",
    "        x1 = np.sqrt(1/3)\n",
    "        x2 = -np.sqrt(1/3)\n",
    "    return"
   ]
  },
  {
   "cell_type": "markdown",
   "id": "259eef2d-a795-4d98-b8b8-29473fa190f5",
   "metadata": {},
   "source": [
    "### Sources \n",
    "\n",
    "* [1]: <https://www.youtube.com/watch?v=4O9uPUbVwhU> Vidéo de d'explication de la méthode"
   ]
  },
  {
   "cell_type": "code",
   "execution_count": null,
   "id": "f0bb140d-2afe-4adf-bdd3-7311da6d9ab0",
   "metadata": {},
   "outputs": [],
   "source": []
  }
 ],
 "metadata": {
  "kernelspec": {
   "display_name": "Python 3",
   "language": "python",
   "name": "python3"
  },
  "language_info": {
   "codemirror_mode": {
    "name": "ipython",
    "version": 3
   },
   "file_extension": ".py",
   "mimetype": "text/x-python",
   "name": "python",
   "nbconvert_exporter": "python",
   "pygments_lexer": "ipython3",
   "version": "3.8.8"
  }
 },
 "nbformat": 4,
 "nbformat_minor": 5
}
