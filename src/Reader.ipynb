{
 "cells": [
  {
   "cell_type": "code",
   "execution_count": 1,
   "id": "ac65fdbb-b17c-4517-a12c-3507a9d2eb50",
   "metadata": {},
   "outputs": [
    {
     "ename": "FileNotFoundError",
     "evalue": "[Errno 2] No such file or directory: 'mesh/rectangle.msh'",
     "output_type": "error",
     "traceback": [
      "\u001b[1;31m---------------------------------------------------------------------------\u001b[0m",
      "\u001b[1;31mFileNotFoundError\u001b[0m                         Traceback (most recent call last)",
      "\u001b[1;32m<ipython-input-1-9c99a54831d6>\u001b[0m in \u001b[0;36m<module>\u001b[1;34m\u001b[0m\n\u001b[0;32m     57\u001b[0m \u001b[1;33m\u001b[0m\u001b[0m\n\u001b[0;32m     58\u001b[0m \u001b[0mfilename\u001b[0m \u001b[1;33m=\u001b[0m \u001b[1;34m\"mesh/rectangle.msh\"\u001b[0m\u001b[1;33m\u001b[0m\u001b[1;33m\u001b[0m\u001b[0m\n\u001b[1;32m---> 59\u001b[1;33m \u001b[0mNL\u001b[0m\u001b[1;33m,\u001b[0m\u001b[0mEL\u001b[0m \u001b[1;33m=\u001b[0m \u001b[0mRead_Node_List\u001b[0m\u001b[1;33m(\u001b[0m\u001b[0mfilename\u001b[0m\u001b[1;33m)\u001b[0m\u001b[1;33m\u001b[0m\u001b[1;33m\u001b[0m\u001b[0m\n\u001b[0m\u001b[0;32m     60\u001b[0m \u001b[0mprint\u001b[0m\u001b[1;33m(\u001b[0m\u001b[0mNL\u001b[0m\u001b[1;33m,\u001b[0m\u001b[0mEL\u001b[0m\u001b[1;33m)\u001b[0m\u001b[1;33m\u001b[0m\u001b[1;33m\u001b[0m\u001b[0m\n",
      "\u001b[1;32m<ipython-input-1-9c99a54831d6>\u001b[0m in \u001b[0;36mRead_Node_List\u001b[1;34m(filename)\u001b[0m\n\u001b[0;32m      2\u001b[0m \u001b[1;33m\u001b[0m\u001b[0m\n\u001b[0;32m      3\u001b[0m \u001b[1;32mdef\u001b[0m \u001b[0mRead_Node_List\u001b[0m\u001b[1;33m(\u001b[0m\u001b[0mfilename\u001b[0m\u001b[1;33m)\u001b[0m \u001b[1;33m:\u001b[0m\u001b[1;33m\u001b[0m\u001b[1;33m\u001b[0m\u001b[0m\n\u001b[1;32m----> 4\u001b[1;33m     \u001b[0mf\u001b[0m \u001b[1;33m=\u001b[0m \u001b[0mopen\u001b[0m\u001b[1;33m(\u001b[0m\u001b[0mfilename\u001b[0m\u001b[1;33m,\u001b[0m\u001b[1;34m'r'\u001b[0m\u001b[1;33m)\u001b[0m\u001b[1;33m\u001b[0m\u001b[1;33m\u001b[0m\u001b[0m\n\u001b[0m\u001b[0;32m      5\u001b[0m     \u001b[0mdata\u001b[0m \u001b[1;33m=\u001b[0m \u001b[0mf\u001b[0m\u001b[1;33m.\u001b[0m\u001b[0mread\u001b[0m\u001b[1;33m(\u001b[0m\u001b[1;33m)\u001b[0m\u001b[1;33m\u001b[0m\u001b[1;33m\u001b[0m\u001b[0m\n\u001b[0;32m      6\u001b[0m     \u001b[0mf\u001b[0m\u001b[1;33m.\u001b[0m\u001b[0mclose\u001b[0m\u001b[1;33m\u001b[0m\u001b[1;33m\u001b[0m\u001b[0m\n",
      "\u001b[1;31mFileNotFoundError\u001b[0m: [Errno 2] No such file or directory: 'mesh/rectangle.msh'"
     ]
    }
   ],
   "source": [
    "import numpy as np\n",
    "\n",
    "def Read_Node_List(filename) :\n",
    "    f = open(filename,'r')\n",
    "    data = f.read()\n",
    "    f.close\n",
    "\n",
    "    lines = data.splitlines()\n",
    "    #lines.remove(lines[0])\n",
    "    \n",
    "    x, y , z = [],[],[]\n",
    "    NL, EL = [], []\n",
    "\n",
    "    t1 = \"$Nodes\"\n",
    "    t2 = \"$EndNodes\"\n",
    "    t3 = \"$Elements\"\n",
    "    t4 = \"$EndElements\"\n",
    "\n",
    "    for i in range(len(lines)) : \n",
    "        line = lines[i].split()\n",
    "        if t1 in line : \n",
    "            i += 1\n",
    "            line = lines[i].split()\n",
    "            while not (t2 in line) :\n",
    "                if len(line) == 1 : \n",
    "                    NoN = int(line[0])\n",
    "                else : \n",
    "                    \"\"\"\n",
    "                    print(\"traitement du noeud \",line[0] )\n",
    "                    print(line, \"==> selectionnee\")\n",
    "                    print(\"x = \", line[1],\"\\n\",\"y = \", line[2],\"\\n\",\"z = \", line[3])\n",
    "                    \"\"\"\n",
    "                    x.append(line[1])\n",
    "                    y.append(line[2])\n",
    "                    z.append(line[3])\n",
    "                    NL.append(line[1:4])\n",
    "                i += 1\n",
    "                line = lines[i].split()\n",
    "        if t3 in line :\n",
    "            i += 1\n",
    "            line = lines[i].split()\n",
    "            while not (t4 in line) :\n",
    "                if len(line) == 1 : \n",
    "                    NoE = int(line[0])\n",
    "                else : \n",
    "                    \"\"\"\n",
    "                    print(\"traitement de l'element \",line[0] )\n",
    "                    print(line, \"==> selectionnee\")\n",
    "                    print(\"EL = \", line[5:8])\n",
    "                    \"\"\"\n",
    "                    EL.append(line[5:8])\n",
    "                i += 1\n",
    "                line = lines[i].split()      \n",
    "    NL = np.array(NL)\n",
    "    EL = np.array(EL)\n",
    "    return NL,EL"
   ]
  },
  {
   "cell_type": "code",
   "execution_count": null,
   "id": "9ad735d7-721f-454f-9529-013c4d04cb43",
   "metadata": {},
   "outputs": [],
   "source": []
  },
  {
   "cell_type": "code",
   "execution_count": null,
   "id": "8b6453b3-00f0-489f-8f7a-89e9d30fc43e",
   "metadata": {},
   "outputs": [],
   "source": []
  }
 ],
 "metadata": {
  "kernelspec": {
   "display_name": "Python 3",
   "language": "python",
   "name": "python3"
  },
  "language_info": {
   "codemirror_mode": {
    "name": "ipython",
    "version": 3
   },
   "file_extension": ".py",
   "mimetype": "text/x-python",
   "name": "python",
   "nbconvert_exporter": "python",
   "pygments_lexer": "ipython3",
   "version": "3.8.8"
  }
 },
 "nbformat": 4,
 "nbformat_minor": 5
}
