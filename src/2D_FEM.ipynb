{
 "cells": [
  {
   "cell_type": "code",
   "execution_count": 4,
   "id": "38f721a2-5f88-455d-8429-76fc0ec240bb",
   "metadata": {},
   "outputs": [],
   "source": [
    "import numpy as np\n",
    "\n",
    "def uniform_mesh(d1,d2,p,m,elem_type) :\n",
    "    \n",
    "    PD = 2\n",
    "    q = np.array([[0,0],[d1,0],[d1,d2],[0,d2]])\n",
    "    \n",
    "    NoN = (p+1)*(m+1)\n",
    "    NoE = p*m\n",
    "    NPE = 4\n",
    "    \n",
    "    NL = np.zeros([NoN,PD])\n",
    "    \n",
    "    a = (q[1,0] - q[0,0])/p\n",
    "    b = (q[2,1] - q[0,1])/m\n",
    "    \n",
    "    n = 0\n",
    "    \n",
    "    for i in range(1,m+2):\n",
    "        for j in range(1,p+2):\n",
    "            NL[n,0] = q[0,0] + a*(j-1)\n",
    "            NL[n,1] = q[0,1] + b*(i-1)\n",
    "            n+=1\n",
    "    \n",
    "    EL = np.zeros([NoE,PD])\n",
    "    \n",
    "    for i in range(1,m+1):\n",
    "        for j in range(1,p+1):\n",
    "            if j == 1 :\n",
    "                a= 0\n",
    "            else : \n",
    "                a = 0\n",
    "\n",
    "    return NL, EL\n",
    "\n",
    "def Stiffness(x,GPE) : \n",
    "    NPE = np.size(x,0)\n",
    "    PD = np.size(x,1)\n",
    "    \n",
    "\n",
    "d1, d2 = 1,1\n",
    "p,m = 3,4\n",
    "elem_type = 'D2QU4N'\n",
    "\n",
    "NL,EL = uniform_mesh(d1,d2,p,m,elem_type)\n",
    "            \n",
    "    "
   ]
  },
  {
   "cell_type": "code",
   "execution_count": null,
   "id": "b77325f6-fea8-4557-b305-f2db5f70f499",
   "metadata": {},
   "outputs": [],
   "source": []
  }
 ],
 "metadata": {
  "kernelspec": {
   "display_name": "Python 3",
   "language": "python",
   "name": "python3"
  },
  "language_info": {
   "codemirror_mode": {
    "name": "ipython",
    "version": 3
   },
   "file_extension": ".py",
   "mimetype": "text/x-python",
   "name": "python",
   "nbconvert_exporter": "python",
   "pygments_lexer": "ipython3",
   "version": "3.8.8"
  }
 },
 "nbformat": 4,
 "nbformat_minor": 5
}
