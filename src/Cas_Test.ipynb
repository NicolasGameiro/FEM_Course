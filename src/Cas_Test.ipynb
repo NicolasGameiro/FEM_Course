{
 "cells": [
  {
   "cell_type": "code",
   "execution_count": null,
   "id": "ba3f316d-1757-4e3d-8568-b1f474381ef2",
   "metadata": {},
   "outputs": [],
   "source": [
    "def geom(NL) : \n",
    "    x = [x for x in NL[:,0]]\n",
    "    y = [y for y in NL[:,1]]\n",
    "    size = 200\n",
    "    offset = size/40000.\n",
    "    plt.scatter(x, y, c='y', s=size, zorder=5)\n",
    "    for i, location in enumerate(zip(x,y)):\n",
    "        plt.annotate(i+1, (location[0]-offset, location[1]-offset), zorder=10)\n",
    "    for i in range(len(EL)) :\n",
    "        xi,xj = NL[EL[i,0]-1,0],NL[EL[i,1]-1,0]\n",
    "        yi,yj = NL[EL[i,0]-1,1],NL[EL[i,1]-1,1]\n",
    "        plt.plot([xi,xj],[yi,yj],color = 'k', lw = 1, linestyle = '--')\n",
    "    plt.axis('equal')\n",
    "\n",
    "def beam_generator(nb_l, l,nb_L, L) : \n",
    "    NL,EL = [] ,[]\n",
    "    # Etape 1 : On genere les noeuds du maillage de bas en haut et de gauche a droite\n",
    "    for i in range(nb_L):\n",
    "        for j in range(nb_l) :\n",
    "            NL.append([i*L/nb_L,j*l/nb_l])\n",
    "    # Etape 2 : on genere les elements du maillage\n",
    "    # 2.1 element verticaux\n",
    "    for i in range(nb_L) : \n",
    "        for j in range(nb_l-1) : \n",
    "            EL.append([j+1+i*nb_l,j+2+i*nb_l])\n",
    "    # 2.2 element horizontaux\n",
    "    for i in range(nb_l) : \n",
    "        for j in range(nb_l) : \n",
    "            EL.append([j+1+i*nb_l,j+nb_L+i*nb_l])\n",
    "    # 2.3 element diagonaux\n",
    "    for i in range(nb_l) : \n",
    "        for j in range(1,nb_l) : \n",
    "            EL.append([j+1+i*nb_l,j+(i+1)*nb_l])\n",
    "    return np.array(NL),np.array(EL)"
   ]
  },
  {
   "cell_type": "code",
   "execution_count": null,
   "id": "a1894bd0-8fb1-4be2-933e-7d168adb43e9",
   "metadata": {},
   "outputs": [],
   "source": [
    "import numpy as np\n",
    "\n",
    "if cas == 1 : \n",
    "    NL = np.array([[0,0],\n",
    "              [1,0],\n",
    "              [2,0]])\n",
    "    EL = np.array([[1,2],\n",
    "              [2,3]])\n",
    "elif cas == 2 :\n",
    "    NL = np.array([[1,0],\n",
    "                  [2,0],\n",
    "                  [3,0],\n",
    "                  [4,0],\n",
    "                  [5,0]])\n",
    "    EL = np.array([[1,2],\n",
    "                  [2,3],\n",
    "                  [3,4],\n",
    "                  [4,5]])\n",
    "elif cas == 3 :\n",
    "    a = 1\n",
    "    NL = np.array([[0,0],\n",
    "              [a,0],\n",
    "              [a/2,a*np.sqrt(3)/2]])\n",
    "    EL = np.array([[1,2],\n",
    "              [2,3],\n",
    "                [1,3]])\n",
    "elif cas == 4 : #support catenaire\n",
    "    NL = np.array([[0,0],\n",
    "              [0,2],\n",
    "              [0,3],\n",
    "                 [1,3]])\n",
    "    EL = np.array([[1,2],\n",
    "              [2,3],\n",
    "                [3,4],\n",
    "                  [4,2]])\n",
    "elif cas ==5 :\n",
    "    NL, EL = beam_generator(nb_l = 3, l= 3,nb_L= 4, L= 4)"
   ]
  },
  {
   "cell_type": "code",
   "execution_count": 44,
   "id": "28ea11c7-482c-49e9-aa92-f3bdbb787346",
   "metadata": {},
   "outputs": [],
   "source": [
    "def plot_forces( NL,  F) -> None:\n",
    "    scale_force = np.max(np.abs(F))//10\n",
    "    #print('==> scale force = ', scale_force*10)\n",
    "    plt.quiver(NL[:,0], NL[:,1], F[:,0], F[:,1], color='r', angles='xy', scale_units='xy', scale=scale_force*10*2)\n",
    "    plt.axis('equal')  # <-- set the axes to the same scale\n",
    "    return"
   ]
  },
  {
   "cell_type": "code",
   "execution_count": null,
   "id": "c51575e4-1cbf-4f98-a8c4-9d7d5e25ff8b",
   "metadata": {},
   "outputs": [],
   "source": []
  }
 ],
 "metadata": {
  "kernelspec": {
   "display_name": "Python 3",
   "language": "python",
   "name": "python3"
  },
  "language_info": {
   "codemirror_mode": {
    "name": "ipython",
    "version": 3
   },
   "file_extension": ".py",
   "mimetype": "text/x-python",
   "name": "python",
   "nbconvert_exporter": "python",
   "pygments_lexer": "ipython3",
   "version": "3.8.8"
  }
 },
 "nbformat": 4,
 "nbformat_minor": 5
}
