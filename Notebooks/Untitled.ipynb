{
 "cells": [
  {
   "cell_type": "markdown",
   "id": "b1d3b6d4",
   "metadata": {},
   "source": [
    "# Calculateur de moment de flexion et force de cisaillement\n",
    "(pour les poutres isostatique uniquement)\n",
    "\n",
    "## Données d'entrée :"
   ]
  },
  {
   "cell_type": "code",
   "execution_count": 6,
   "id": "d3be8f98",
   "metadata": {},
   "outputs": [],
   "source": [
    "import numpy as np\n",
    "import math\n",
    "import matplotlib.pyplot as plt"
   ]
  },
  {
   "cell_type": "code",
   "execution_count": 7,
   "id": "9f8472ad",
   "metadata": {},
   "outputs": [],
   "source": [
    "span = 17 #span of the beam (en m)\n",
    "A = 3 # Distance of the left support (en m)\n",
    "B = 13 # Distance of the right support (en m)\n",
    "\n",
    "# Force data\n",
    "pointLoads = np.array([[6, 0 , -90]]) # Location, xMag, yMag\n",
    "pointMoments = np.array([[17 , 50]])\n",
    "linearLoads = np.array([[8, 17, -10, 0]])"
   ]
  },
  {
   "cell_type": "code",
   "execution_count": 8,
   "id": "240f3da1",
   "metadata": {},
   "outputs": [
    {
     "name": "stdout",
     "output_type": "stream",
     "text": [
      "3\n"
     ]
    }
   ],
   "source": [
    "divs = 10000\n",
    "delta = span/divs\n",
    "X = np.arange(0, span + delta, delta)\n",
    "nPL = len(pointLoads[0])\n",
    "\n",
    "print(nPL)\n",
    "\n",
    "Reaction = np.array([0, 0, 0])\n",
    "ShearForce = np.empty([0, len(X)])\n",
    "BendingMoment = np.empty([0, len(X)])"
   ]
  },
  {
   "cell_type": "markdown",
   "id": "068273d9",
   "metadata": {},
   "source": [
    "## Reaction calculation"
   ]
  },
  {
   "cell_type": "code",
   "execution_count": null,
   "id": "b6e3bdf4",
   "metadata": {},
   "outputs": [],
   "source": [
    "PL_record = np.empty([0,3])\n",
    "\n",
    "if nPL > 0 :\n",
    "    for n,p in enumerate(pointLoads):\n",
    "        va, vb, ha = "
   ]
  }
 ],
 "metadata": {
  "kernelspec": {
   "display_name": "Python 3 (ipykernel)",
   "language": "python",
   "name": "python3"
  },
  "language_info": {
   "codemirror_mode": {
    "name": "ipython",
    "version": 3
   },
   "file_extension": ".py",
   "mimetype": "text/x-python",
   "name": "python",
   "nbconvert_exporter": "python",
   "pygments_lexer": "ipython3",
   "version": "3.9.7"
  }
 },
 "nbformat": 4,
 "nbformat_minor": 5
}
