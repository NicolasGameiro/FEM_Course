{
 "cells": [
  {
   "cell_type": "markdown",
   "id": "64dff07c-236c-4979-892d-d974d7420c61",
   "metadata": {},
   "source": [
    "# Estimatuer erreur modélisation elements finis\n",
    "\n",
    "Il existe 3 méthodes pour l'estimer l'erreur d'un calcul éléments finis :\n",
    "- Estimateurs fondés sur les défauts d'équilibre [Babuska, Rheinboldt 78]\n",
    "- Estimateurs basés sur l'erreur en relation de comportement [Ladevèze 75]\n",
    "- Estimateurs construits sur les défauts de régularité de la solution EF [Zienkiewicz, Zhu 87]\n",
    "\n",
    "### 1. Méthode basée sur les résidus\n",
    "\n",
    "En méthode explicite, Estimateurs fiables mais généralement pessimistes. \n",
    "En méthode implicte, Plus coûteuses mais donnant de meilleurs résultats\n",
    "\n",
    "### 2. Erreur en relation de comportement\n",
    "\n",
    "### 3. Erreur basée sur des techniques de lissage\n",
    "\n",
    "On expose dans ce document la méthode d'estimation de l'erreur de discrétisation proposée par ZHU-ZIENKIEWICZ.\n",
    "Cet estimateur s'appuie sur un lissage continu des contraintes calculées permettant d'obtenir une meilleure\n",
    "précision sur les contraintes nodales par rapport aux méthodes standards.\n",
    "Deux versions successives de cet estimateur sont décrites, correspondant chacune à un lissage différent.\n",
    "\n",
    "Une première version a été proposée en 1987, appelé méthode ZZ1 mais elle était peu performante.\n",
    "Une nouvelle a été proposée en 1992, appelée méthode ZZ2 qui possède une relative simplicté avec les avantages suivants : \n",
    "* Très performant au niveau global\n",
    "* Plus robuste que les méthodes avec résidus [Babuska & al 94]\n",
    "* Indices d'efficacité locaux non conservatifs [Ladevèze­Rougeot 97] mais convient pour adaptation de maillage\n",
    "\n",
    "Cette méthode consiste a : \n",
    "1. construire une approximation lissée d'un champ dérivé \n",
    "2. puis la valeur nodale approximée localement avec une fonction polynomiale\n",
    "3. Détermination des noeuds internes\n"
   ]
  },
  {
   "cell_type": "markdown",
   "id": "75ae8a23-6f61-4b92-9b01-10cb6243b825",
   "metadata": {},
   "source": [
    "### Source : \n",
    "* [1] https://www.mat.minesparis.psl.eu/Donnees/data05/524-Estimateur-erreur.pdf\n",
    "* [2] https://www.code-aster.org/V2/doc/v12/fr/man_r/r4/r4.10.01.pdf"
   ]
  }
 ],
 "metadata": {
  "kernelspec": {
   "display_name": "Python 3",
   "language": "python",
   "name": "python3"
  },
  "language_info": {
   "codemirror_mode": {
    "name": "ipython",
    "version": 3
   },
   "file_extension": ".py",
   "mimetype": "text/x-python",
   "name": "python",
   "nbconvert_exporter": "python",
   "pygments_lexer": "ipython3",
   "version": "3.8.8"
  }
 },
 "nbformat": 4,
 "nbformat_minor": 5
}
