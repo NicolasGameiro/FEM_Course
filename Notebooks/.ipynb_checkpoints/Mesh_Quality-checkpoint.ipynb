{
 "cells": [
  {
   "cell_type": "markdown",
   "id": "2f766019-c417-47a9-93de-e4948a9774e9",
   "metadata": {},
   "source": [
    "* https://www.youtube.com/watch?v=Vg_iDSXdP_k : mesh quality examples\n",
    "* https://www.youtube.com/watch?v=v9CFbg87oZA : mesh tool in catia example on hole plate"
   ]
  },
  {
   "cell_type": "code",
   "execution_count": null,
   "id": "93111781-0757-483f-bb10-6b1135d645ea",
   "metadata": {},
   "outputs": [],
   "source": []
  }
 ],
 "metadata": {
  "kernelspec": {
   "display_name": "Python 3",
   "language": "python",
   "name": "python3"
  },
  "language_info": {
   "codemirror_mode": {
    "name": "ipython",
    "version": 3
   },
   "file_extension": ".py",
   "mimetype": "text/x-python",
   "name": "python",
   "nbconvert_exporter": "python",
   "pygments_lexer": "ipython3",
   "version": "3.8.8"
  }
 },
 "nbformat": 4,
 "nbformat_minor": 5
}
