{
 "cells": [
  {
   "cell_type": "markdown",
   "id": "bc474652-1726-49b8-91ad-a2cead6f3234",
   "metadata": {
    "tags": [],
    "toc-hr-collapsed": true
   },
   "source": [
    "# Lesson 1 : Calcul de vis\n",
    "\n",
    "## Sommaire\n",
    "1. [Example](Example)\n",
    "2. [Example2](#example2)\n",
    "3. [Third Example](#third-example)\n",
    "4. [Fourth Example](#fourth-example)"
   ]
  },
  {
   "cell_type": "code",
   "execution_count": 1,
   "id": "34b298b0-2454-45ae-b29c-19c9cf1e2a92",
   "metadata": {},
   "outputs": [],
   "source": [
    "import numpy as np"
   ]
  },
  {
   "cell_type": "markdown",
   "id": "abd4510f-9d5b-45fc-85cb-76d00b6eaf18",
   "metadata": {
    "tags": [],
    "toc-hr-collapsed": true
   },
   "source": [
    "## Paramètres\n",
    "\n",
    "Vis ISO 898-1"
   ]
  },
  {
   "cell_type": "code",
   "execution_count": 3,
   "id": "b3f94265-7998-4ed9-a721-adf5457d7041",
   "metadata": {},
   "outputs": [],
   "source": [
    "Vis = {\"gros pas\" : \n",
    "           {\"M1\" : 0.460, \"M2\" : 1}\n",
    "      }"
   ]
  },
  {
   "cell_type": "markdown",
   "id": "b387fc8e-acea-4064-9323-67394c2fcf68",
   "metadata": {},
   "source": [
    "## Déterminer le couple de serrage\n",
    "\n",
    "Le couple de serrage peut se décomposer :\n",
    "\n",
    "$$ C = C_1 + C_2 $$\n",
    "\n",
    "avec $C_1$ : couple dû aux forces de contact des filets de la vis sur l'écrou <br /> \n",
    "$ C_2 $  : Couple dû aux forces de contact de la pièce (ou rondelle) sur l'écrou"
   ]
  },
  {
   "cell_type": "code",
   "execution_count": 8,
   "id": "9e053a86-bfd4-40cb-9d6e-b1c232463b91",
   "metadata": {},
   "outputs": [
    {
     "data": {
      "text/plain": [
       "107.0521719765272"
      ]
     },
     "execution_count": 8,
     "metadata": {},
     "output_type": "execute_result"
    }
   ],
   "source": [
    "Q = 10000 # Force de serrage (en N)\n",
    "rm = 0.02 #rayon moyen du filet (en m)\n",
    "alpha = 0.2\n",
    "f1 = 0.3\n",
    "phi1 = np.arctan(f1)\n",
    "\n",
    "C1 = Q * rm * np.tan(alpha + phi1)\n",
    "C1"
   ]
  },
  {
   "cell_type": "code",
   "execution_count": 9,
   "id": "bdb0d265-2c19-4567-8c3b-842953932e79",
   "metadata": {},
   "outputs": [
    {
     "data": {
      "text/plain": [
       "450.00000000000006"
      ]
     },
     "execution_count": 9,
     "metadata": {},
     "output_type": "execute_result"
    }
   ],
   "source": [
    "r1 = 0.1\n",
    "r2 = 0.2\n",
    "rm = (r1 + r2) / 2\n",
    "f2 = 0.3\n",
    "\n",
    "C2 = Q * rm * f2\n",
    "C2"
   ]
  },
  {
   "cell_type": "markdown",
   "id": "8710c53e-9e9a-480f-b514-bfddab28a068",
   "metadata": {},
   "source": [
    "## Third Example\n",
    "## Fourth Example"
   ]
  },
  {
   "cell_type": "code",
   "execution_count": null,
   "id": "282b9db6-8255-4644-8998-2018956fbeae",
   "metadata": {},
   "outputs": [],
   "source": []
  }
 ],
 "metadata": {
  "kernelspec": {
   "display_name": "Python 3 (ipykernel)",
   "language": "python",
   "name": "python3"
  },
  "language_info": {
   "codemirror_mode": {
    "name": "ipython",
    "version": 3
   },
   "file_extension": ".py",
   "mimetype": "text/x-python",
   "name": "python",
   "nbconvert_exporter": "python",
   "pygments_lexer": "ipython3",
   "version": "3.9.7"
  },
  "toc-showcode": false
 },
 "nbformat": 4,
 "nbformat_minor": 5
}
