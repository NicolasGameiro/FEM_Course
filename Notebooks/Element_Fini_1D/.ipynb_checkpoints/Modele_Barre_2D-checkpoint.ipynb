{
 "cells": [
  {
   "cell_type": "code",
   "execution_count": 9,
   "id": "d6bd011e-effb-4690-b217-cdeb25392ca2",
   "metadata": {},
   "outputs": [
    {
     "name": "stdout",
     "output_type": "stream",
     "text": [
      "Nombre de noeuds : 3\n",
      "Nombre de elements : 2\n"
     ]
    },
    {
     "name": "stdin",
     "output_type": "stream",
     "text": [
      "Combien de forces a appliquer ? 1\n",
      "noeud concerne ?  3\n",
      "0 = Fx, 1 = Fy 1\n",
      "Norme de la force :  1000\n"
     ]
    },
    {
     "data": {
      "image/png": "[encoded data removed]",
      "text/plain": [
       "<Figure size 432x288 with 1 Axes>"
      ]
     },
     "metadata": {
      "needs_background": "light"
     },
     "output_type": "display_data"
    }
   ],
   "source": [
    "import matplotlib.pyplot as plt\n",
    "from matplotlib.colors import Normalize\n",
    "from matplotlib.cm import ScalarMappable\n",
    "import numpy as n\n",
    "from numpy.linalg import inv\n",
    "\n",
    "### Etape 1 : on defini notre geometrie\n",
    "cas = 3\n",
    "%run ..\\..\\src\\Cas_Test.ipynb #..\\ permet de remonter au fichier parent dans l'arborescence des fichiers\n",
    "%run ..\\..\\src\\Fonctions.ipynb\n",
    "\n",
    "NoN = len(NL) # Nombre de noeuds\n",
    "NoE = len(EL) # Nombre d'elements\n",
    "print(\"Nombre de noeuds :\", NoN)\n",
    "print(\"Nombre de elements :\", NoE)\n",
    "    \n",
    "%run ..\\..\\src\\Cas_Test.ipynb\n",
    "F = apply_forces_poutre(NoN)\n",
    "plot_forces( NL, F)"
   ]
  },
  {
   "cell_type": "code",
   "execution_count": 10,
   "id": "26c150e1-1a58-4651-8e53-5347d4efce3e",
   "metadata": {},
   "outputs": [
    {
     "name": "stdout",
     "output_type": "stream",
     "text": [
      "Raideur du modele :  1110.0 \n",
      "\n"
     ]
    },
    {
     "ename": "LinAlgError",
     "evalue": "Singular matrix",
     "output_type": "error",
     "traceback": [
      "\u001b[1;31m---------------------------------------------------------------------------\u001b[0m",
      "\u001b[1;31mLinAlgError\u001b[0m                               Traceback (most recent call last)",
      "\u001b[1;32m~\\AppData\\Local\\Temp/ipykernel_6112/1134678818.py\u001b[0m in \u001b[0;36m<module>\u001b[1;34m\u001b[0m\n\u001b[0;32m     70\u001b[0m \u001b[1;33m\u001b[0m\u001b[0m\n\u001b[0;32m     71\u001b[0m \u001b[1;31m### Etape 7 : Resolution\u001b[0m\u001b[1;33m\u001b[0m\u001b[1;33m\u001b[0m\u001b[0m\n\u001b[1;32m---> 72\u001b[1;33m \u001b[0mU_r\u001b[0m \u001b[1;33m=\u001b[0m \u001b[0minv\u001b[0m\u001b[1;33m(\u001b[0m\u001b[0mK_glob_r\u001b[0m\u001b[1;33m)\u001b[0m\u001b[1;33m.\u001b[0m\u001b[0mdot\u001b[0m\u001b[1;33m(\u001b[0m\u001b[0mF_r\u001b[0m\u001b[1;33m)\u001b[0m\u001b[1;33m\u001b[0m\u001b[1;33m\u001b[0m\u001b[0m\n\u001b[0m\u001b[0;32m     73\u001b[0m \u001b[0mU\u001b[0m \u001b[1;33m=\u001b[0m \u001b[0mBC\u001b[0m\u001b[1;33m.\u001b[0m\u001b[0mdot\u001b[0m\u001b[1;33m(\u001b[0m\u001b[0mU_r\u001b[0m\u001b[1;33m)\u001b[0m\u001b[1;33m\u001b[0m\u001b[1;33m\u001b[0m\u001b[0m\n\u001b[0;32m     74\u001b[0m \u001b[1;33m\u001b[0m\u001b[0m\n",
      "\u001b[1;32m<__array_function__ internals>\u001b[0m in \u001b[0;36minv\u001b[1;34m(*args, **kwargs)\u001b[0m\n",
      "\u001b[1;32m~\\anaconda3\\lib\\site-packages\\numpy\\linalg\\linalg.py\u001b[0m in \u001b[0;36minv\u001b[1;34m(a)\u001b[0m\n\u001b[0;32m    543\u001b[0m     \u001b[0msignature\u001b[0m \u001b[1;33m=\u001b[0m \u001b[1;34m'D->D'\u001b[0m \u001b[1;32mif\u001b[0m \u001b[0misComplexType\u001b[0m\u001b[1;33m(\u001b[0m\u001b[0mt\u001b[0m\u001b[1;33m)\u001b[0m \u001b[1;32melse\u001b[0m \u001b[1;34m'd->d'\u001b[0m\u001b[1;33m\u001b[0m\u001b[1;33m\u001b[0m\u001b[0m\n\u001b[0;32m    544\u001b[0m     \u001b[0mextobj\u001b[0m \u001b[1;33m=\u001b[0m \u001b[0mget_linalg_error_extobj\u001b[0m\u001b[1;33m(\u001b[0m\u001b[0m_raise_linalgerror_singular\u001b[0m\u001b[1;33m)\u001b[0m\u001b[1;33m\u001b[0m\u001b[1;33m\u001b[0m\u001b[0m\n\u001b[1;32m--> 545\u001b[1;33m     \u001b[0mainv\u001b[0m \u001b[1;33m=\u001b[0m \u001b[0m_umath_linalg\u001b[0m\u001b[1;33m.\u001b[0m\u001b[0minv\u001b[0m\u001b[1;33m(\u001b[0m\u001b[0ma\u001b[0m\u001b[1;33m,\u001b[0m \u001b[0msignature\u001b[0m\u001b[1;33m=\u001b[0m\u001b[0msignature\u001b[0m\u001b[1;33m,\u001b[0m \u001b[0mextobj\u001b[0m\u001b[1;33m=\u001b[0m\u001b[0mextobj\u001b[0m\u001b[1;33m)\u001b[0m\u001b[1;33m\u001b[0m\u001b[1;33m\u001b[0m\u001b[0m\n\u001b[0m\u001b[0;32m    546\u001b[0m     \u001b[1;32mreturn\u001b[0m \u001b[0mwrap\u001b[0m\u001b[1;33m(\u001b[0m\u001b[0mainv\u001b[0m\u001b[1;33m.\u001b[0m\u001b[0mastype\u001b[0m\u001b[1;33m(\u001b[0m\u001b[0mresult_t\u001b[0m\u001b[1;33m,\u001b[0m \u001b[0mcopy\u001b[0m\u001b[1;33m=\u001b[0m\u001b[1;32mFalse\u001b[0m\u001b[1;33m)\u001b[0m\u001b[1;33m)\u001b[0m\u001b[1;33m\u001b[0m\u001b[1;33m\u001b[0m\u001b[0m\n\u001b[0;32m    547\u001b[0m \u001b[1;33m\u001b[0m\u001b[0m\n",
      "\u001b[1;32m~\\anaconda3\\lib\\site-packages\\numpy\\linalg\\linalg.py\u001b[0m in \u001b[0;36m_raise_linalgerror_singular\u001b[1;34m(err, flag)\u001b[0m\n\u001b[0;32m     86\u001b[0m \u001b[1;33m\u001b[0m\u001b[0m\n\u001b[0;32m     87\u001b[0m \u001b[1;32mdef\u001b[0m \u001b[0m_raise_linalgerror_singular\u001b[0m\u001b[1;33m(\u001b[0m\u001b[0merr\u001b[0m\u001b[1;33m,\u001b[0m \u001b[0mflag\u001b[0m\u001b[1;33m)\u001b[0m\u001b[1;33m:\u001b[0m\u001b[1;33m\u001b[0m\u001b[1;33m\u001b[0m\u001b[0m\n\u001b[1;32m---> 88\u001b[1;33m     \u001b[1;32mraise\u001b[0m \u001b[0mLinAlgError\u001b[0m\u001b[1;33m(\u001b[0m\u001b[1;34m\"Singular matrix\"\u001b[0m\u001b[1;33m)\u001b[0m\u001b[1;33m\u001b[0m\u001b[1;33m\u001b[0m\u001b[0m\n\u001b[0m\u001b[0;32m     89\u001b[0m \u001b[1;33m\u001b[0m\u001b[0m\n\u001b[0;32m     90\u001b[0m \u001b[1;32mdef\u001b[0m \u001b[0m_raise_linalgerror_nonposdef\u001b[0m\u001b[1;33m(\u001b[0m\u001b[0merr\u001b[0m\u001b[1;33m,\u001b[0m \u001b[0mflag\u001b[0m\u001b[1;33m)\u001b[0m\u001b[1;33m:\u001b[0m\u001b[1;33m\u001b[0m\u001b[1;33m\u001b[0m\u001b[0m\n",
      "\u001b[1;31mLinAlgError\u001b[0m: Singular matrix"
     ]
    }
   ],
   "source": [
    "### Etapte 2 : On calcule la matrice de raideur dans le repere local dans les coordonnees locales\n",
    "\n",
    "E = 1e4 # Module D'Young [en Pa]\n",
    "S = 0.111 # Section [en m^2]\n",
    "L = 1 # Longueur d'un element [en m]\n",
    "q = 20 # Charge repartie (en N/m)\n",
    "k = E*S/L\n",
    "print(\"Raideur du modele : \", k, \"\\n\")\n",
    "\n",
    "%run ..\\..\\src\\Fonctions.ipynb\n",
    "\n",
    "K_elem = k*np.array([[1, 0 , -1, 0],\n",
    "                    [0, 0 , 0, 0],\n",
    "                    [-1, 0, 1, 0],\n",
    "                    [0, 0 , 0 , 0]])\n",
    "\n",
    "def K_elem(L_e) :\n",
    "    K_elem = E*S/L_e*np.array([[1, 0 , -1, 0],\n",
    "                         [0, 0 , 0, 0],\n",
    "                        [-1, 0, 1, 0],\n",
    "                        [0, 0 , 0 , 0]])\n",
    "    return K_elem\n",
    "\n",
    "### Etape 3 : On passe la matrice de raideur dans les coordonnees globale (on fait des rotations)\n",
    "\n",
    "matrices_de_passage = changement_coord(NL,EL)\n",
    "#for x in matrices_de_passage : \n",
    "#    print(x)\n",
    "\n",
    "K_glob = assemblage_2D(matrices_de_passage,NL,EL)\n",
    "\n",
    "BC1 = np.array([[0. , 0., 0., 0.],\n",
    "              [0. , 0., 0., 0.],\n",
    "              [1. , 0., 0., 0.],\n",
    "              [0., 1., 0., 0.],\n",
    "              [0., 0., 1., 0.],\n",
    "              [0., 0.,0., 1.]])\n",
    "BC2 = np.array([[0. ,0. , 0., 0., 0.],\n",
    "               [0. ,0. , 0., 0., 0.],\n",
    "               [1. ,0. , 0., 0., 0.],\n",
    "               [0. ,0. , 0., 0., 0.],\n",
    "               [0. ,1. , 0., 0., 0.],\n",
    "               [0. ,0. , 1., 0., 0.],\n",
    "               [0. ,0. , 0., 1., 0.],\n",
    "               [0. ,0. , 0., 0., 1.]])\n",
    "BC3 = np.array([[ 0., 0., 0.],\n",
    "              [ 0., 0., 0.],\n",
    "              [1. , 0., 0.],\n",
    "              [0., 0., 0.],\n",
    "              [0., 1., 0.],\n",
    "              [0., 0., 1.]])\n",
    "BC4 = np.array([[ 0., 0.],\n",
    "              [ 0., 0.],\n",
    "              [ 0., 0.],\n",
    "              [ 0., 0.],\n",
    "              [ 1., 0.],\n",
    "              [ 0., 1.]])\n",
    "\n",
    "BC = BC4\n",
    "#F = np.array([0, 0, 0, 0, 100, 0])\n",
    "#F = np.array([0, 0, 0, 0, 0, 0, 100, 0])\n",
    "#BC = bc(NoN)\n",
    "#F = apply_forces_poutre(NoN)\n",
    "F = F.flatten()\n",
    "F = np.vstack(F)\n",
    "\n",
    "#U = solve(K_glob,F,BC)\n",
    "K_glob_r = np.transpose(BC).dot(K_glob).dot(BC)\n",
    "F_r = np.transpose(BC).dot(F)\n",
    "\n",
    "### Etape 7 : Resolution\n",
    "U_r = inv(K_glob_r).dot(F_r)\n",
    "U = BC.dot(U_r)\n",
    "\n",
    "### Etape 8 : Calcul force reaction\n",
    "React = K_glob.dot(U) - F\n",
    "\n",
    "### Etape 9 : Calcul des contraintes\n",
    "# On recalcule les déplacements locaux\n",
    "#u = R(0).dot(U[0:4])\n",
    "#f = K_elem.dot(u)\n",
    "\n",
    "affiche = 1\n",
    "if affiche == 1 : \n",
    "    print(\"K_glob \\n :\",K_glob_r)\n",
    "    print(\"F \\n :\",F_r)\n",
    "    print(\"Deplacement : \\n\", U_r)\n",
    "    print(\"Deplacement : \\n\", U)\n",
    "    print(\"Reaction : \\n\", React)\n",
    "\n",
    "#sigma = stress_barre(u)/1e6\n",
    "#print(\"Calcul des contraintes (en MPa) : \\n\",sigma)"
   ]
  },
  {
   "cell_type": "code",
   "execution_count": 8,
   "id": "8535eb84-7f6a-4595-a702-31877bf525b4",
   "metadata": {},
   "outputs": [
    {
     "data": {
      "image/png": "[encoded data removed]",
      "text/plain": [
       "<Figure size 432x288 with 1 Axes>"
      ]
     },
     "metadata": {
      "needs_background": "light"
     },
     "output_type": "display_data"
    }
   ],
   "source": [
    "### Etape 10 : Affichage\n",
    "scale = 100\n",
    "\n",
    "#plt.scatter(NL[:,0],NL[:,1])\n",
    "#plt.scatter(NL[:,0]+scale*U[::2].flatten(),NL[:,1]+scale*U[1::2])\n",
    "\n",
    "plot_disp(NL,U)\n",
    "#plot_stress(NL,U)\n",
    "#norm_x = Normalize(np.abs(color.min()),np.abs(color.max()))"
   ]
  },
  {
   "cell_type": "code",
   "execution_count": null,
   "id": "4cc0fc61-79bf-470c-8467-4f85460201e7",
   "metadata": {},
   "outputs": [],
   "source": []
  },
  {
   "cell_type": "code",
   "execution_count": null,
   "id": "2d58bb3a-f0be-468f-9f91-b59dcf41ec19",
   "metadata": {},
   "outputs": [],
   "source": []
  }
 ],
 "metadata": {
  "kernelspec": {
   "display_name": "Python 3 (ipykernel)",
   "language": "python",
   "name": "python3"
  },
  "language_info": {
   "codemirror_mode": {
    "name": "ipython",
    "version": 3
   },
   "file_extension": ".py",
   "mimetype": "text/x-python",
   "name": "python",
   "nbconvert_exporter": "python",
   "pygments_lexer": "ipython3",
   "version": "3.9.7"
  },
  "toc-autonumbering": false,
  "toc-showcode": false,
  "toc-showmarkdowntxt": false
 },
 "nbformat": 4,
 "nbformat_minor": 5
}
