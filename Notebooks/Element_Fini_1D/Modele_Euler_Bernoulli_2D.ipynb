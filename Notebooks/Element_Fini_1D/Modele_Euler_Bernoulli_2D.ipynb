{
 "cells": [
  {
   "cell_type": "code",
   "execution_count": 39,
   "id": "dcc49aa2-194c-4a21-86cc-3db4182e882c",
   "metadata": {},
   "outputs": [
    {
     "name": "stdout",
     "output_type": "stream",
     "text": [
      "Nombre de noeuds : 3\n",
      "Nombre de elements : 2\n",
      "k :  [[ 3.20000000e+08  0.00000000e+00 -1.60000000e+08  4.00000000e+07]\n",
      " [ 0.00000000e+00  2.66666667e+07 -4.00000000e+07  6.66666667e+06]\n",
      " [-1.60000000e+08 -4.00000000e+07  1.60000000e+08 -4.00000000e+07]\n",
      " [ 4.00000000e+07  6.66666667e+06 -4.00000000e+07  1.33333333e+07]]\n",
      "matrice force reduite : \n",
      " [    0.     0. -1000.     0.]\n",
      "matrice depl reduite : \n",
      " [-6.25e-05 -2.25e-04 -2.00e-04 -3.00e-04]\n",
      "U :\n",
      " [ 0.00e+00  0.00e+00 -6.25e-05 -2.25e-04 -2.00e-04 -3.00e-04]\n"
     ]
    },
    {
     "data": {
      "image/png": "[encoded data removed]",
      "text/plain": [
       "<Figure size 432x288 with 1 Axes>"
      ]
     },
     "metadata": {
      "needs_background": "light"
     },
     "output_type": "display_data"
    }
   ],
   "source": [
    "import matplotlib.pyplot as plt\n",
    "from matplotlib.colors import Normalize\n",
    "from matplotlib.cm import ScalarMappable\n",
    "import numpy as np\n",
    "from numpy.linalg import inv\n",
    "\n",
    "### Etape 1 : on defini notre geometrie\n",
    "cas = 1\n",
    "%run ..\\..\\src\\Cas_Test.ipynb\n",
    "%run ..\\..\\src\\Fonctions.ipynb\n",
    "\n",
    "NoN = len(NL) # Nombre de noeuds\n",
    "NoE = len(EL) # Nombre d'elements\n",
    "print(\"Nombre de noeuds :\", NoN)\n",
    "print(\"Nombre de elements :\", NoE)\n",
    "\n",
    "geom(NL,EL)\n",
    "#plot_forces( NL, F)\n",
    "\n",
    "### Etapte 2 : On calcule la matrice de raideur dans le repere local dans les coordonnees locales\n",
    "\n",
    "E = 200e9 # Module D'Young [en Pa]\n",
    "rho = 7800 # Masse volumique [kg/m3]\n",
    "L = 1 #Longueur d'un element [m]\n",
    "h = 0.1 # hauteur [en m]\n",
    "b = 0.1 # largueur [en m]\n",
    "S = b*h # Section [en m^2]\n",
    "I = b*h**3/12 # Inertie [en m]\n",
    "q = 20000 # Charge repartie (en N/m)\n",
    "\n",
    "K_el = E*I/L**3*np.array([[12, 6*L , -12, 6*L],\n",
    "                            [6*L, 4*L**2 , -6*L, 2*L**2],\n",
    "                            [-12, -6*L, 12, -6*L],\n",
    "                            [6*L, 2*L**2 , -6*L , 4*L**2]])\n",
    "\n",
    "M_el = rho*S*L/420*np.array([[156, 22*L, 54, -13*L],\n",
    "                              [22*L,4*L**2, 13*L, -3*L**2],\n",
    "                              [54, 13*L, 256, -22*L],\n",
    "                              [-13*L, -3*L**2, -22*L, 4*L**2]])\n",
    "\n",
    "def K_elem(L_e) :\n",
    "    K_elem = E*I/L_e**3*np.array([[12, 6*L_e , -12, 6*L_e],\n",
    "                            [6*L_e, 4*L_e**2 , -6*L_e, 2*L_e**2],\n",
    "                            [-12, -6*L_e, 12, -6*L_e],\n",
    "                            [6*L_e, 2*L_e**2 , -6*L_e , 4*L_e**2]])\n",
    "    return K_elem\n",
    "\n",
    "### Etape 3 : On passe la matrice de raideur dans les coordonnees globale (on fait des rotations)\n",
    "\n",
    "matrices_de_passage = changement_coord(NL,EL)\n",
    "K_glob = assemblage_2D(matrices_de_passage,NL,EL)\n",
    "\n",
    "\n",
    "BC = np.array([[0. , 0., 0., 0.],\n",
    "              [0. , 0., 0., 0.],\n",
    "              [1. , 0., 0., 0.],\n",
    "              [0., 1., 0., 0.],\n",
    "              [0., 0., 1., 0.],\n",
    "              [0., 0.,0., 1.]])\n",
    "\n",
    "F = np.array([0, 0, 0, 0, -1000, 0])\n",
    "#Q = distributed_load_Flexion(NoN,NoE,q)\n",
    "#F = F #+ Q.flatten()\n",
    "#BC = bc(NoN)\n",
    "#F = apply_forces_poutre(NoN)\n",
    "#plot_forces( NL, F)\n",
    "F = F.flatten()\n",
    "\n",
    "K_glob_r = np.transpose(BC).dot(K_glob).dot(BC)\n",
    "print(\"k : \",K_glob_r)\n",
    "F_r = np.transpose(BC).dot(F)\n",
    "print(\"matrice force reduite : \\n\", F_r)\n",
    "U_r = inv(K_glob_r).dot(F_r)\n",
    "#try :    \n",
    "#except : \n",
    "#print(\"Attention Matrice singulière (contient un zéro dans ces termes diagonaux). Manque de condition limite\")\n",
    "print(\"matrice depl reduite : \\n\",U_r)\n",
    "U = BC.dot(U_r)\n",
    "print(\"U :\\n\",U)"
   ]
  },
  {
   "cell_type": "code",
   "execution_count": 40,
   "id": "8e30afd8-7205-4ab8-abb7-34f0da0a1bc9",
   "metadata": {},
   "outputs": [
    {
     "name": "stdout",
     "output_type": "stream",
     "text": [
      "delta analytique : 0.00019999999999999993\n",
      "delta EF : 0.0002000000000000001\n",
      "ratio theorie/EF : 0.9999999999999992\n"
     ]
    },
    {
     "data": {
      "image/png": "[encoded data removed]",
      "text/plain": [
       "<Figure size 432x288 with 1 Axes>"
      ]
     },
     "metadata": {
      "needs_background": "light"
     },
     "output_type": "display_data"
    }
   ],
   "source": [
    "### Etape 10 : Affichage\n",
    "scale = 1e1\n",
    "\n",
    "#plt.scatter(NL[:,0],NL[:,1])\n",
    "#plt.scatter(NL[:,0]+scale*U[::2].flatten(),NL[:,1]+scale*U[1::2])\n",
    "\n",
    "plot_disp(NL,U,scale)\n",
    "#geom(NL)\n",
    "#plot_stress(NL,U)\n",
    "#norm_x = Normalize(np.abs(color.min()),np.abs(color.max()))*\n",
    "P = 1000\n",
    "L = 1\n",
    "delta = P*L**3/3/E/I\n",
    "print(\"delta analytique :\",delta)\n",
    "print(\"delta EF :\", abs(U[-2]))\n",
    "print(\"ratio theorie/EF :\", abs(delta/U[-2])) #derniere composante est une rotation donc on prend l'avant derniere"
   ]
  },
  {
   "cell_type": "markdown",
   "id": "7e310646-67bc-4f09-9a4c-e30c3642bb39",
   "metadata": {},
   "source": [
    "### Sources \n",
    "\n",
    "* [1]: <https://www.yyy> Vidéo modélisation poutre de Euler Bernoulli\n",
    "* [2]: <https://www.youtube.com/watch?v=eReuOiF_96k> Vidéo modélisation poutre de Timoshenko\n"
   ]
  },
  {
   "cell_type": "code",
   "execution_count": null,
   "id": "a0ebb6a8-dd5b-460b-ad93-2b0779b1ee5c",
   "metadata": {},
   "outputs": [],
   "source": []
  }
 ],
 "metadata": {
  "kernelspec": {
   "display_name": "Python 3 (ipykernel)",
   "language": "python",
   "name": "python3"
  },
  "language_info": {
   "codemirror_mode": {
    "name": "ipython",
    "version": 3
   },
   "file_extension": ".py",
   "mimetype": "text/x-python",
   "name": "python",
   "nbconvert_exporter": "python",
   "pygments_lexer": "ipython3",
   "version": "3.9.7"
  }
 },
 "nbformat": 4,
 "nbformat_minor": 5
}
