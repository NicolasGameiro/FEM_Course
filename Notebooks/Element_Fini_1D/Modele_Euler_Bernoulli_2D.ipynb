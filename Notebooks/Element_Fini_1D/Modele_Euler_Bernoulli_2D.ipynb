{
 "cells": [
  {
   "cell_type": "code",
   "execution_count": 53,
   "id": "dcc49aa2-194c-4a21-86cc-3db4182e882c",
   "metadata": {},
   "outputs": [
    {
     "name": "stdout",
     "output_type": "stream",
     "text": [
      "Nombre de noeuds : 3\n",
      "Nombre de elements : 2\n",
      " ### Debut de l'assemblage ###\n",
      "### Fin de l'assemblage ###\n",
      "determinant : 0.0\n",
      "k :  [[ 2.4e+14  0.0e+00 -1.2e+14  6.0e+13]\n",
      " [ 0.0e+00  8.0e+13 -6.0e+13  2.0e+13]\n",
      " [-1.2e+14 -6.0e+13  1.2e+14 -6.0e+13]\n",
      " [ 6.0e+13  2.0e+13 -6.0e+13  4.0e+13]]\n",
      "[-20000.              0.         -10400.           1666.66666667]\n",
      "[-1.45000000e-09 -2.39333333e-09 -4.10666667e-09 -2.74666667e-09]\n",
      "U :\n",
      " [ 0.00000000e+00  0.00000000e+00 -1.45000000e-09 -2.39333333e-09\n",
      " -4.10666667e-09 -2.74666667e-09]\n"
     ]
    },
    {
     "data": {
      "image/png": "[encoded data removed]",
      "text/plain": [
       "<Figure size 432x288 with 1 Axes>"
      ]
     },
     "metadata": {
      "needs_background": "light"
     },
     "output_type": "display_data"
    }
   ],
   "source": [
    "import matplotlib.pyplot as plt\n",
    "from matplotlib.colors import Normalize\n",
    "from matplotlib.cm import ScalarMappable\n",
    "import numpy as np\n",
    "from numpy.linalg import inv\n",
    "\n",
    "### Etape 1 : on defini notre geometrie\n",
    "cas = 1\n",
    "%run src\\Cas_Test.ipynb\n",
    "%run src\\Fonctions.ipynb\n",
    "\n",
    "NoN = len(NL) # Nombre de noeuds\n",
    "NoE = len(EL) # Nombre d'elements\n",
    "print(\"Nombre de noeuds :\", NoN)\n",
    "print(\"Nombre de elements :\", NoE)\n",
    "    \n",
    "geom(NL)\n",
    "#plot_forces( NL, F)\n",
    "\n",
    "### Etapte 2 : On calcule la matrice de raideur dans le repere local dans les coordonnees locales\n",
    "\n",
    "E = 12e9 # Module D'Young [en Pa]\n",
    "rho = 7800 \n",
    "L = 1\n",
    "h = 10 # hauteur [en m]\n",
    "b = 10 #largueur [en m]\n",
    "S = b*h # Section [en m^2]\n",
    "I = b*h**3/12 # Inertie [en m]\n",
    "q = 20000 # Charge repartie (en N/m)\n",
    "\n",
    "K_elem = E*I/L**3*np.array([[12, 6*L , -12, 6*L],\n",
    "                            [6*L, 4*L**2 , -6*L, 2*L**2],\n",
    "                            [-12, -6*L, 12, -6*L],\n",
    "                            [6*L, 2*L**2 , -6*L , 4*L**2]])\n",
    "\n",
    "M_elem = rho*S*L/420*np.array([[156, 22*L, 54, -13*L],\n",
    "                              [22*L,4*L**2, 13*L, -3*L**2],\n",
    "                              [54, 13*L, 256, -22*L],\n",
    "                              [-13*L, -3*L**2, -22*L, 4*L**2]])\n",
    "\n",
    "def K_elem(L_e) :\n",
    "    K_elem = E*I/L_e**3*np.array([[12, 6*L , -12, 6*L],\n",
    "                            [6*L, 4*L**2 , -6*L, 2*L**2],\n",
    "                            [-12, -6*L, 12, -6*L],\n",
    "                            [6*L, 2*L**2 , -6*L , 4*L**2]])\n",
    "    return K_elem\n",
    "\n",
    "### Etape 3 : On passe la matrice de raideur dans les coordonnees globale (on fait des rotations)\n",
    "\n",
    "matrices_de_passage = changement_coord(NL,EL)\n",
    "K_glob = assemblage_2D(matrices_de_passage,NL,EL)\n",
    "\n",
    "BC = np.array([[0. , 0., 0., 0.],\n",
    "              [0. , 0., 0., 0.],\n",
    "              [1. , 0., 0., 0.],\n",
    "              [0., 1., 0., 0.],\n",
    "              [0., 0., 1., 0.],\n",
    "              [0., 0.,0., 1.]])\n",
    "F = np.array([0, 0, 0, 0, -400, 0])\n",
    "Q = distributed_load_Flexion(NoN,NoE,q)\n",
    "F = F + Q.flatten()\n",
    "#BC = bc(NoN)\n",
    "#F = apply_forces_poutre(NoN)\n",
    "#plot_forces( NL, F)\n",
    "#F = F.flatten()\n",
    "\n",
    "K_glob_r = np.transpose(BC).dot(K_glob).dot(BC)\n",
    "print(\"k : \",K_glob_r)\n",
    "F_r = np.transpose(BC).dot(F)\n",
    "print(F_r)\n",
    "U_r = inv(K_glob_r).dot(F_r)\n",
    "#try :    \n",
    "#except : \n",
    "#print(\"Attention Matrice singulière (contient un zéro dans ces termes diagonaux). Manque de condition limite\")\n",
    "print(U_r)\n",
    "U = BC.dot(U_r)\n",
    "print(\"U :\\n\",U)"
   ]
  },
  {
   "cell_type": "code",
   "execution_count": 59,
   "id": "8e30afd8-7205-4ab8-abb7-34f0da0a1bc9",
   "metadata": {},
   "outputs": [
    {
     "data": {
      "image/png": "[encoded data removed]",
      "text/plain": [
       "<Figure size 432x288 with 1 Axes>"
      ]
     },
     "metadata": {
      "needs_background": "light"
     },
     "output_type": "display_data"
    }
   ],
   "source": [
    "### Etape 10 : Affichage\n",
    "scale = 1e8\n",
    "\n",
    "#plt.scatter(NL[:,0],NL[:,1])\n",
    "#plt.scatter(NL[:,0]+scale*U[::2].flatten(),NL[:,1]+scale*U[1::2])\n",
    "\n",
    "plot_disp(NL,U,scale)\n",
    "#geom(NL)\n",
    "#plot_stress(NL,U)\n",
    "#norm_x = Normalize(np.abs(color.min()),np.abs(color.max()))"
   ]
  },
  {
   "cell_type": "markdown",
   "id": "7e310646-67bc-4f09-9a4c-e30c3642bb39",
   "metadata": {},
   "source": [
    "### Sources \n",
    "\n",
    "* [1]: <https://www.yyy> Vidéo modélisation poutre de Euler Bernoulli\n",
    "* [2]: <https://www.youtube.com/watch?v=eReuOiF_96k> Vidéo modélisation poutre de Timoshenko\n"
   ]
  },
  {
   "cell_type": "code",
   "execution_count": null,
   "id": "a0ebb6a8-dd5b-460b-ad93-2b0779b1ee5c",
   "metadata": {},
   "outputs": [],
   "source": []
  }
 ],
 "metadata": {
  "kernelspec": {
   "display_name": "Python 3",
   "language": "python",
   "name": "python3"
  },
  "language_info": {
   "codemirror_mode": {
    "name": "ipython",
    "version": 3
   },
   "file_extension": ".py",
   "mimetype": "text/x-python",
   "name": "python",
   "nbconvert_exporter": "python",
   "pygments_lexer": "ipython3",
   "version": "3.8.8"
  }
 },
 "nbformat": 4,
 "nbformat_minor": 5
}
