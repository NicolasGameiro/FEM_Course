{
 "cells": [
  {
   "cell_type": "markdown",
   "metadata": {},
   "source": [
    "# Modélisation d'une caténaire\n",
    "\n",
    "#### Table des matières\n",
    "1. [Introduction](#1.Introduction) \n",
    "2. [Modélisation](#2.Modélisation) \n",
    "1. [Code](#subparagraph1) \n",
    "3. [Références](#paragraph2) \n",
    "\n",
    "---\n",
    "\n",
    "L'objectif de ce document est de réaliser la modélisation par éléments finis d'un caténaire.\n",
    "\n",
    "## 1. Introduction\n",
    "\n",
    "La caténaire constitue le système suivant :\n",
    "$$ caténaire = \\{fil porteur + pendule + fil de contact\\} $$\n",
    "\n",
    "On commence par réaliser une modélisation du fil de contact. On utilise une modèle barre. Le fil est modélisé par une barre de section constant dont on ne peut transmettre que des efforts longitunidaux dans un premier temps."
   ]
  },
  {
   "cell_type": "markdown",
   "metadata": {},
   "source": [
    "\n",
    "\n",
    "### Modèle de poutre d'Euler-Bernoulli\n",
    "\n",
    "On peut utiliser une autre approche pour modéliser les déformations d'une poutre qui repose sur des hypothèses simplificatrices : \n",
    "- Les sections restent perpendiculaire à la fibre neutre de la poutre\n",
    "- les déformations sont petites ($\\theta << 1$) permet de linéariser certaines formules trognométriques\n",
    "- Le matériau est homogène, élastique linéaire et isotrope\n",
    "\n",
    "![modelisation schema](Images/Euler.png \"title\")\n",
    "\n",
    "On approxime le déplacement d'un élément par la formule suivante : \n",
    "\n",
    "$$ u = N q $$\n",
    "\n",
    "On utilise les valeurs au extremité de l'élément pour reconstituer le déplacement à l'intérieur de l'élément.\n",
    "\n",
    "$$ q = \\begin{pmatrix} u_1\\\\ v_1 \\\\ \\phi_1 \\\\  u_2\\\\ v_2 \\\\ \\phi_2 \\end{pmatrix} $$\n",
    "\n",
    "Les fonctions d'interpolation sont plus compliquées et longues à trouver que dans le cas de la modélisation en barre.\n",
    "\n",
    "On obtient une matrice de raideur élementaire de cette forme :\n",
    "\n",
    "$ A = S $\n",
    "$ B = \\frac{I}{L^2} $\n",
    "$$ K_{elem} = \\frac{ES}{L} \\begin{pmatrix}\n",
    "A & 0 & 0 & -A & 0 & 0\\\\\n",
    "0 & 12B & 6LB & 0 & -12B & 6LB \\\\\n",
    "0 & 6LB & 4L^2B & 0 & -6LB & 2L^2B \\\\\n",
    "-A & 0 & 0 & A & 0 & 0\\\\\n",
    "0 & -12B & -6LB & 0 & 12B & -6LB \\\\\n",
    "0 & 6LB & 2L^2B & 0 & -6LB & 4L^2B \n",
    "\\end{pmatrix} $$\n",
    "\n",
    "La matrice de masse vaut : \n",
    "$$ M_{elem} = \\frac{\\rho S}{420 L} \\begin{pmatrix}\n",
    "140 & 0 & 0 & 70 & 0 & 0\\\\\n",
    "0 & 156 & 22L & 0 & 54 & -13L \\\\\n",
    "0 & 22L & 4L^2 & 0 & 13L & -3L^2 \\\\\n",
    "70 & 0 & 0 & 140 & 0 & 0\\\\\n",
    "0 & 54 & 13L & 0 & 156 & -22L \\\\\n",
    "0 & -13L & -3L^2  & 0 & -22L & 4L^2 \n",
    "\\end{pmatrix} $$\n"
   ]
  },
  {
   "cell_type": "markdown",
   "metadata": {},
   "source": [
    "> The overriding design goal for Markdown's\n",
    "> formatting syntax is to make it as readable\n",
    "> as possible. The idea is that a\n",
    "> Markdown-formatted document should be\n",
    "> publishable as-is, as plain text, without\n",
    "> looking like it's been marked up with tags\n",
    "> or formatting instructions."
   ]
  },
  {
   "cell_type": "markdown",
   "metadata": {},
   "source": [
    "### Codage du modéle\n",
    "\n",
    "On va maintenant coder tout ça en python et automatiser un peut les calculs pour plus d'éléments. \n",
    "Et faire de la visualisation pour vérifier un peu ce qu'on fait.\n",
    "\n",
    "On commence par importer les package nécessaires : \n",
    "- *numpy* pour la création et manipulation de matrice\n",
    "- *matplotlib* pour le tracer de graphe"
   ]
  },
  {
   "cell_type": "code",
   "execution_count": 16,
   "metadata": {},
   "outputs": [
    {
     "name": "stdout",
     "output_type": "stream",
     "text": [
      "Nombre de noeuds : 3\n",
      "Nombre de elements : 3\n"
     ]
    },
    {
     "data": {
      "image/png": "[encoded data removed]",
      "text/plain": [
       "<Figure size 432x288 with 1 Axes>"
      ]
     },
     "metadata": {
      "needs_background": "light"
     },
     "output_type": "display_data"
    }
   ],
   "source": [
    "import matplotlib.pyplot as plt\n",
    "import numpy as np\n",
    "from numpy.linalg import inv\n",
    "\n",
    "%run src\\Cas_Test.ipynb\n",
    "\n",
    "### Etape 1 : on defini notre geometrie\n",
    "cas = 3\n",
    "if cas == 1 : \n",
    "    NL = np.array([[1,0],\n",
    "              [2,0],\n",
    "              [3,0]])\n",
    "    EL = np.array([[1,2],\n",
    "              [2,3]])\n",
    "elif cas == 2 :\n",
    "    NL = np.array([[1,0],\n",
    "                  [2,0],\n",
    "                  [3,0],\n",
    "                  [4,0],\n",
    "                  [5,0]])\n",
    "    EL = np.array([[1,2],\n",
    "                  [2,3],\n",
    "                  [3,4],\n",
    "                  [4,5]])\n",
    "elif cas == 3 :\n",
    "    NL = np.array([[0,0],\n",
    "                [1,0],\n",
    "                [1/2,1/np.sqrt(3)]])\n",
    "    EL = np.array([[1,2],\n",
    "                 [2,3],\n",
    "                 [3,1]])\n",
    "\n",
    "NoN = len(NL) # Nombre de noeuds\n",
    "NoE = len(EL) # Nombre d'elements\n",
    "print(\"Nombre de noeuds :\", NoN)\n",
    "print(\"Nombre de elements :\", NoE)\n",
    "\n",
    "geom(NL)"
   ]
  },
  {
   "cell_type": "markdown",
   "metadata": {},
   "source": [
    "| Variable    | Libellé / Definition                                        | Unité / Unit|\n",
    "| ----------- | ----------------------------------------------------------- | ----------- |\n",
    "|  E          | Module d'Young                                              | Pa          |\n",
    "|  S          | Section de l'element                                        | m2          |\n",
    "| L       | Longueur de l'element  | m          |"
   ]
  },
  {
   "cell_type": "markdown",
   "metadata": {},
   "source": [
    "### Cas Poutre complete (effort axial, transverse et moment)"
   ]
  },
  {
   "cell_type": "code",
   "execution_count": 18,
   "metadata": {},
   "outputs": [
    {
     "name": "stdout",
     "output_type": "stream",
     "text": [
      "k :  [[ 33904346.23776836  15550538.31809392 -31904346.23776836\n",
      "   25362187.49498651  15550538.31809392]\n",
      " [ 15550538.31809392  18474458.73132763 -15550538.31809392\n",
      "   13467161.22599267   5237229.36566382]\n",
      " [-31904346.23776836 -15550538.31809392  63808692.47553672\n",
      "          0.         -31101076.63618785]\n",
      " [ 25362187.49498651  13467161.22599267         0.\n",
      "   49165826.69806848         0.        ]\n",
      " [ 15550538.31809392   5237229.36566382 -31101076.63618785\n",
      "          0.          20948917.46265527]]\n",
      "[   0.    0. 1000. 1000.    0.]\n",
      "[-6.16824998e-06  1.71253955e-05  6.11698044e-05  1.88303526e-05\n",
      "  9.11109972e-05]\n",
      "U \n",
      " [ 0.00000000e+00  0.00000000e+00  0.00000000e+00 -6.16824998e-06\n",
      "  0.00000000e+00  1.71253955e-05  6.11698044e-05  1.88303526e-05\n",
      "  9.11109972e-05]\n"
     ]
    },
    {
     "data": {
      "image/png": "[encoded data removed]",
      "text/plain": [
       "<Figure size 432x288 with 1 Axes>"
      ]
     },
     "metadata": {
      "needs_background": "light"
     },
     "output_type": "display_data"
    }
   ],
   "source": [
    "### Etapte 2 : On calcule la matrice de raideur dans le repere local dans les coordonnees locales\n",
    "E = 20e9 # Module D'Young [en Pa]\n",
    "S = 100e-6 # Section [en m^2]\n",
    "L = 1 # Longueur d'un element [en m]\n",
    "\n",
    "%run src\\Fonctions.ipynb\n",
    "\n",
    "I = 1 # Moment d'inertie m^4\n",
    "A = S\n",
    "B = I/L**2\n",
    "K_elem = E*S/L*np.array([[1, 0 , 0, -1, 0, 0],\n",
    "                         [0, 12*B , 6*L*B, 0, -12*B, 6*L*B],\n",
    "                         [0, 6*L*B , 4*L**2*B, 0, -6*L*B, 2*L**2*B],\n",
    "                         [-1, 0, 0, 1, 0, 0],\n",
    "                         [0, -12*B , -6*L*B , 0, 12*B , -6*L*B],\n",
    "                         [0,  6*L*B , 2*L**2*B , 0, -6*L*B ,  4*L**2*B]])\n",
    "\n",
    "def K_elem(L_e) :\n",
    "    B = I/L_e**2\n",
    "    K = E*S/L_e*np.array([[1, 0 , 0, -1, 0, 0],\n",
    "                         [0, 12*B , 6*L_e*B, 0, -12*B, 6*L_e*B],\n",
    "                         [0, 6*L_e*B , 4*L_e**2*B, 0, -6*L_e*B, 2*L_e**2*B],\n",
    "                         [-1, 0, 0, 1, 0, 0],\n",
    "                         [0, -12*B , -6*L_e*B , 0, 12*B , -6*L_e*B],\n",
    "                         [0,  6*L_e*B , 2*L_e**2*B , 0, -6*L_e*B ,  4*L_e**2*B]])\n",
    "    return K\n",
    "\n",
    "### Etape 3 : On passe les coordonnees locales en coordonnees globales\n",
    "\n",
    "matrices_de_passage = changement_coord_complet(NL,EL)\n",
    "\n",
    "### Etape 4 : Assemblage de la matrice globale \n",
    "\n",
    "K_glob = assemblage_complet(matrices_de_passage,NL,EL)\n",
    "\n",
    "### Etape 5 : Application des conditions limites\n",
    "\n",
    "q = 150 # Charge repartie (en N/m)\n",
    "    \n",
    "#Q_equi = distributed_load_complet(NoN,NoE,q)\n",
    "\n",
    "if cas == 1 : \n",
    "    F = np.array([[0],\n",
    "                 [0],\n",
    "                  [0],\n",
    "                 [0],\n",
    "                 [0],\n",
    "                  [0],\n",
    "                  [0],\n",
    "                 [20000],\n",
    "                 [0]])\n",
    "\n",
    "    BC = np.array([[0., 0., 0., 0., 0., 0.],\n",
    "                   [0., 0., 0., 0., 0., 0.],\n",
    "                   [0., 0., 0., 0., 0., 0.],\n",
    "                   [1., 0., 0., 0., 0., 0.],\n",
    "                  [0., 1., 0., 0., 0., 0.],\n",
    "                  [0., 0., 1., 0., 0., 0.],\n",
    "                  [0., 0., 0., 1., 0., 0.],\n",
    "                  [0., 0., 0., 0., 1., 0.],\n",
    "                  [0., 0., 0., 0., 0., 1.]])\n",
    "elif cas == 2 :\n",
    "    F = np.array([[0,0,0],\n",
    "                      [0,0,0],\n",
    "                     [0,0,0],\n",
    "                     [0,0,0],\n",
    "                     [0,2000,0]]).flatten()\n",
    "    BC = np.eye(len(NL)*3)\n",
    "    lbc = [0,1,2]\n",
    "    BC = np.delete(BC,lbc,axis=1)\n",
    "    print(F,BC)\n",
    "elif cas == 3 :\n",
    "    F = np.array([[0,0,0],\n",
    "                [0,0,0],\n",
    "                [1000,1000,0]]).flatten()\n",
    "    BC = np.eye(len(NL)*3)\n",
    "    lbc = [0,1,2,4]\n",
    "    BC = np.delete(BC,lbc,axis=1)\n",
    "\n",
    "\n",
    "### Etape 7 : Resolution\n",
    "\n",
    "U = solve(K_glob,F,BC)\n",
    "print(\"U \\n\",U)\n",
    "\n",
    "### Etape 8 : Affichage\n",
    "plot_disp(NL,U)"
   ]
  },
  {
   "cell_type": "markdown",
   "metadata": {},
   "source": [
    "### paramètres du modèle\n",
    "\n",
    "$\\sigma = \\frac{T}{S}$"
   ]
  },
  {
   "cell_type": "code",
   "execution_count": 7,
   "metadata": {},
   "outputs": [
    {
     "name": "stdout",
     "output_type": "stream",
     "text": [
      "contrainte dans le fil : 80.0  MPa\n"
     ]
    }
   ],
   "source": [
    "T = 12000 # Tension appliquee au fil [en N]\n",
    "S_fc = 150e-6 # Section du fil de contact [en m^2]\n",
    "\n",
    "sigma_fc = T/S_fc # Contrainte dans le fil de contact [en N/m^2]\n",
    "print(\"contrainte dans le fil :\", sigma_fc/1e6, \" MPa\")"
   ]
  },
  {
   "cell_type": "markdown",
   "metadata": {},
   "source": [
    "## Liens utiles :\n",
    "\n",
    "* [1]: <https://fr.wikipedia.org/wiki/Cat%C3%A9naire> \"Définition caténaire\"\n",
    "\n",
    "Je me suis grandement inspiré des excellentes vidéos de Mike Foster sur Youtube : <https://www.youtube.com/watch?v=1Wv-S6OCsPY>"
   ]
  }
 ],
 "metadata": {
  "kernelspec": {
   "display_name": "Python 3 (ipykernel)",
   "language": "python",
   "name": "python3"
  },
  "language_info": {
   "codemirror_mode": {
    "name": "ipython",
    "version": 3
   },
   "file_extension": ".py",
   "mimetype": "text/x-python",
   "name": "python",
   "nbconvert_exporter": "python",
   "pygments_lexer": "ipython3",
   "version": "3.9.7"
  }
 },
 "nbformat": 4,
 "nbformat_minor": 4
}
