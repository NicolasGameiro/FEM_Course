{
 "cells": [
  {
   "cell_type": "code",
   "execution_count": 40,
   "id": "5c1e58b2-5666-4e93-bd08-574efc089203",
   "metadata": {},
   "outputs": [],
   "source": [
    "import numpy as np\n",
    "from scipy.linalg import eigh\n",
    "import math\n",
    "import matplotlib.pyplot as plt\n",
    "\n",
    "def bar(num_elems) : \n",
    "    restrained_dofs = [0,]\n",
    "\n",
    "    m = np.array([[2,1],[1,2]]) / (6. * num_elems)\n",
    "    k = np.array([[1,-1],[-1,1]]) * float(num_elems)\n",
    "    M = np.zeros((num_elems+1,num_elems+1))\n",
    "    K = np.zeros((num_elems+1,num_elems+1))\n",
    "\n",
    "    for i in range(num_elems):\n",
    "        M_temp = np.zeros((num_elems+1,num_elems+1))\n",
    "        K_temp = np.zeros((num_elems+1,num_elems+1))\n",
    "        M_temp[i:i+2,i:i+2] = m \n",
    "        K_temp[i:i+2,i:i+2] = k\n",
    "        M += M_temp\n",
    "        K += K_temp\n",
    "\n",
    "    for dof in restrained_dofs:\n",
    "        for i in [0,1] :\n",
    "            M = np.delete(M,dof,axis=i)\n",
    "            K = np.delete(K,dof,axis=i)\n",
    "\n",
    "    evals, evecs = eigh(K,M)\n",
    "    frequencies = np.sqrt(evals)\n",
    "    return M,K, frequencies, evecs\n",
    "\n",
    "def pf(frequencies): \n",
    "    for i in range(len(frequencies)) :\n",
    "        print(\"frequence propre \", i + 1,\" : \", np.round(frequencies[i],2),\" Hz\")\n",
    "\n",
    "def analyse_error(N):\n",
    "    exact_frequency = math.pi/2\n",
    "    Err = []\n",
    "    for i in range(1,N) : \n",
    "        M,K, frequencies, evecs = bar(i)\n",
    "        error = (frequencies[0] - exact_frequency) / exact_frequency * 100.0\n",
    "        Err.append(error)\n",
    "        print(f'Nb element {i} :\\n f1 = {np.round(frequencies[0],2)} Hz & erreur = {np.round(error,2)}%')\n",
    "    print(f\"frequence exacte = {np.round(exact_frequency,2)} Hz\")\n",
    "    plt.plot(range(1,N),Err,\"o\")\n",
    "    plt.xlabel(\"Nombre d'elements\")\n",
    "    plt.ylabel(\"Erreur (%)\")\n",
    "    plt.grid()\n",
    "    plt.show()"
   ]
  },
  {
   "cell_type": "code",
   "execution_count": 41,
   "id": "a03477fa-4d73-4786-a4d4-c64a34bb590d",
   "metadata": {},
   "outputs": [
    {
     "name": "stdout",
     "output_type": "stream",
     "text": [
      "frequence propre  1  :  1.59  Hz\n",
      "frequence propre  2  :  5.2  Hz\n",
      "frequence propre  3  :  9.43  Hz\n",
      "Nb element 1 :\n",
      " f1 = 1.73 Hz & erreur = 10.27%\n",
      "Nb element 2 :\n",
      " f1 = 1.61 Hz & erreur = 2.59%\n",
      "Nb element 3 :\n",
      " f1 = 1.59 Hz & erreur = 1.15%\n",
      "Nb element 4 :\n",
      " f1 = 1.58 Hz & erreur = 0.64%\n",
      "Nb element 5 :\n",
      " f1 = 1.58 Hz & erreur = 0.41%\n",
      "Nb element 6 :\n",
      " f1 = 1.58 Hz & erreur = 0.29%\n",
      "Nb element 7 :\n",
      " f1 = 1.57 Hz & erreur = 0.21%\n",
      "Nb element 8 :\n",
      " f1 = 1.57 Hz & erreur = 0.16%\n",
      "Nb element 9 :\n",
      " f1 = 1.57 Hz & erreur = 0.13%\n",
      "Nb element 10 :\n",
      " f1 = 1.57 Hz & erreur = 0.1%\n",
      "frequence exacte = 1.57 Hz\n"
     ]
    },
    {
     "data": {
      "image/png": "[encoded data removed]",
      "text/plain": [
       "<Figure size 432x288 with 1 Axes>"
      ]
     },
     "metadata": {
      "needs_background": "light"
     },
     "output_type": "display_data"
    }
   ],
   "source": [
    "M,K, frequencies, evecs = bar(3)\n",
    "pf(frequencies)\n",
    "analyse_error(11)"
   ]
  },
  {
   "cell_type": "code",
   "execution_count": null,
   "id": "f21ebfe0-f986-43b1-923f-b95dcfd63f9f",
   "metadata": {},
   "outputs": [],
   "source": []
  }
 ],
 "metadata": {
  "kernelspec": {
   "display_name": "Python 3 (ipykernel)",
   "language": "python",
   "name": "python3"
  },
  "language_info": {
   "codemirror_mode": {
    "name": "ipython",
    "version": 3
   },
   "file_extension": ".py",
   "mimetype": "text/x-python",
   "name": "python",
   "nbconvert_exporter": "python",
   "pygments_lexer": "ipython3",
   "version": "3.9.7"
  }
 },
 "nbformat": 4,
 "nbformat_minor": 5
}
