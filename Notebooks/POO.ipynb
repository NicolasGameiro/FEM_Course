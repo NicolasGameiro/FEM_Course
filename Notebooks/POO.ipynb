{
 "cells": [
  {
   "cell_type": "code",
   "execution_count": null,
   "id": "8ab67a28-eea0-422d-9f43-05dd7fc321c3",
   "metadata": {},
   "outputs": [],
   "source": []
  },
  {
   "cell_type": "markdown",
   "id": "93bddbe1-abbe-4bbe-8618-791b15020a16",
   "metadata": {},
   "source": [
    "### Sources :\n",
    "* https://www.youtube.com/watch?v=vRfK7SOa5aI : Programmation orienté objet pour Mechanical Engineer"
   ]
  }
 ],
 "metadata": {
  "kernelspec": {
   "display_name": "Python 3",
   "language": "python",
   "name": "python3"
  },
  "language_info": {
   "codemirror_mode": {
    "name": "ipython",
    "version": 3
   },
   "file_extension": ".py",
   "mimetype": "text/x-python",
   "name": "python",
   "nbconvert_exporter": "python",
   "pygments_lexer": "ipython3",
   "version": "3.8.8"
  }
 },
 "nbformat": 4,
 "nbformat_minor": 5
}
