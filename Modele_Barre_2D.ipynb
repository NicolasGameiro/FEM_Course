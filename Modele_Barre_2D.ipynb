{
 "cells": [
  {
   "cell_type": "code",
   "execution_count": 2,
   "id": "d6bd011e-effb-4690-b217-cdeb25392ca2",
   "metadata": {},
   "outputs": [
    {
     "name": "stdout",
     "output_type": "stream",
     "text": [
      "Nombre de noeuds : 3\n",
      "Nombre de elements : 3\n"
     ]
    },
    {
     "name": "stdin",
     "output_type": "stream",
     "text": [
      "Combien de forces a appliquer ? 1\n",
      "noeud concerne ?  3\n",
      "0 = Fx, 1 = Fy 0\n",
      "Norme de la force :  1000\n"
     ]
    },
    {
     "data": {
      "image/png": "[encoded data removed]",
      "text/plain": [
       "<Figure size 432x288 with 1 Axes>"
      ]
     },
     "metadata": {
      "needs_background": "light"
     },
     "output_type": "display_data"
    }
   ],
   "source": [
    "import matplotlib.pyplot as plt\n",
    "from matplotlib.colors import Normalize\n",
    "from matplotlib.cm import ScalarMappable\n",
    "import numpy as n\n",
    "from numpy.linalg import inv\n",
    "\n",
    "### Etape 1 : on defini notre geometrie\n",
    "cas = 3\n",
    "%run src\\Cas_Test.ipynb\n",
    "%run src\\Fonctions.ipynb\n",
    "\n",
    "NoN = len(NL) # Nombre de noeuds\n",
    "NoE = len(EL) # Nombre d'elements\n",
    "print(\"Nombre de noeuds :\", NoN)\n",
    "print(\"Nombre de elements :\", NoE)\n",
    "    \n",
    "geom(NL)\n",
    "F = apply_forces_poutre(NoN)\n",
    "plot_forces( NL, F)"
   ]
  },
  {
   "cell_type": "code",
   "execution_count": 9,
   "id": "26c150e1-1a58-4651-8e53-5347d4efce3e",
   "metadata": {},
   "outputs": [
    {
     "name": "stdout",
     "output_type": "stream",
     "text": [
      "Raideur du modele :  1110.0 \n",
      "\n",
      " ### Debut de l'assemblage ###\n",
      "### Fin de l'assemblage ###\n",
      "determinant : 3.7005557017746586e-31\n",
      "K_glob \n",
      " : [[ 555.    0.]\n",
      " [   0. 1665.]]\n",
      "F \n",
      " : [[1000.]\n",
      " [   0.]]\n",
      "Deplacement : \n",
      " [[1.8018018]\n",
      " [0.       ]]\n",
      "Deplacement : \n",
      " [[0.       ]\n",
      " [0.       ]\n",
      " [0.       ]\n",
      " [0.       ]\n",
      " [1.8018018]\n",
      " [0.       ]]\n",
      "Reaction : \n",
      " [[-500.        ]\n",
      " [ 866.02540378]\n",
      " [-500.        ]\n",
      " [-866.02540378]\n",
      " [   0.        ]\n",
      " [   0.        ]]\n"
     ]
    }
   ],
   "source": [
    "### Etapte 2 : On calcule la matrice de raideur dans le repere local dans les coordonnees locales\n",
    "\n",
    "E = 1e4 # Module D'Young [en Pa]\n",
    "S = 0.111 # Section [en m^2]\n",
    "L = 1 # Longueur d'un element [en m]\n",
    "q = 20 # Charge repartie (en N/m)\n",
    "k = E*S/L\n",
    "print(\"Raideur du modele : \", k, \"\\n\")\n",
    "\n",
    "%run src\\Fonctions.ipynb\n",
    "\n",
    "K_elem = k*np.array([[1, 0 , -1, 0],\n",
    "                    [0, 0 , 0, 0],\n",
    "                    [-1, 0, 1, 0],\n",
    "                    [0, 0 , 0 , 0]])\n",
    "\n",
    "def K_elem(L_e) :\n",
    "    K_elem = E*S/L_e*np.array([[1, 0 , -1, 0],\n",
    "                         [0, 0 , 0, 0],\n",
    "                        [-1, 0, 1, 0],\n",
    "                        [0, 0 , 0 , 0]])\n",
    "    return K_elem\n",
    "\n",
    "### Etape 3 : On passe la matrice de raideur dans les coordonnees globale (on fait des rotations)\n",
    "\n",
    "matrices_de_passage = changement_coord(NL,EL)\n",
    "#for x in matrices_de_passage : \n",
    "#    print(x)\n",
    "\n",
    "K_glob = assemblage_2D(matrices_de_passage,NL,EL)\n",
    "\n",
    "BC1 = np.array([[0. , 0., 0., 0.],\n",
    "              [0. , 0., 0., 0.],\n",
    "              [1. , 0., 0., 0.],\n",
    "              [0., 1., 0., 0.],\n",
    "              [0., 0., 1., 0.],\n",
    "              [0., 0.,0., 1.]])\n",
    "BC2 = np.array([[0. ,0. , 0., 0., 0.],\n",
    "               [0. ,0. , 0., 0., 0.],\n",
    "               [1. ,0. , 0., 0., 0.],\n",
    "               [0. ,0. , 0., 0., 0.],\n",
    "               [0. ,1. , 0., 0., 0.],\n",
    "               [0. ,0. , 1., 0., 0.],\n",
    "               [0. ,0. , 0., 1., 0.],\n",
    "               [0. ,0. , 0., 0., 1.]])\n",
    "BC3 = np.array([[ 0., 0., 0.],\n",
    "              [ 0., 0., 0.],\n",
    "              [1. , 0., 0.],\n",
    "              [0., 0., 0.],\n",
    "              [0., 1., 0.],\n",
    "              [0., 0., 1.]])\n",
    "BC4 = np.array([[ 0., 0.],\n",
    "              [ 0., 0.],\n",
    "              [ 0., 0.],\n",
    "              [ 0., 0.],\n",
    "              [ 1., 0.],\n",
    "              [ 0., 1.]])\n",
    "\n",
    "BC = BC4\n",
    "#F = np.array([0, 0, 0, 0, 100, 0])\n",
    "#F = np.array([0, 0, 0, 0, 0, 0, 100, 0])\n",
    "#BC = bc(NoN)\n",
    "#F = apply_forces_poutre(NoN)\n",
    "F = F.flatten()\n",
    "F = np.vstack(F)\n",
    "\n",
    "#U = solve(K_glob,F,BC)\n",
    "K_glob_r = np.transpose(BC).dot(K_glob).dot(BC)\n",
    "F_r = np.transpose(BC).dot(F)\n",
    "\n",
    "### Etape 7 : Resolution\n",
    "U_r = inv(K_glob_r).dot(F_r)\n",
    "U = BC.dot(U_r)\n",
    "\n",
    "### Etape 8 : Calcul force reaction\n",
    "React = K_glob.dot(U) - F\n",
    "\n",
    "### Etape 9 : Calcul des contraintes\n",
    "# On recalcule les déplacements locaux\n",
    "#u = R(0).dot(U[0:4])\n",
    "#f = K_elem.dot(u)\n",
    "\n",
    "affiche = 1\n",
    "if affiche == 1 : \n",
    "    print(\"K_glob \\n :\",K_glob_r)\n",
    "    print(\"F \\n :\",F_r)\n",
    "    print(\"Deplacement : \\n\", U_r)\n",
    "    print(\"Deplacement : \\n\", U)\n",
    "    print(\"Reaction : \\n\", React)\n",
    "\n",
    "#sigma = stress_barre(u)/1e6\n",
    "#print(\"Calcul des contraintes (en MPa) : \\n\",sigma)"
   ]
  },
  {
   "cell_type": "code",
   "execution_count": 10,
   "id": "8535eb84-7f6a-4595-a702-31877bf525b4",
   "metadata": {},
   "outputs": [
    {
     "data": {
      "image/png": "[encoded data removed]",
      "text/plain": [
       "<Figure size 432x288 with 1 Axes>"
      ]
     },
     "metadata": {
      "needs_background": "light"
     },
     "output_type": "display_data"
    }
   ],
   "source": [
    "### Etape 10 : Affichage\n",
    "scale = 100\n",
    "\n",
    "#plt.scatter(NL[:,0],NL[:,1])\n",
    "#plt.scatter(NL[:,0]+scale*U[::2].flatten(),NL[:,1]+scale*U[1::2])\n",
    "\n",
    "plot_disp(NL,U)\n",
    "#plot_stress(NL,U)\n",
    "#norm_x = Normalize(np.abs(color.min()),np.abs(color.max()))"
   ]
  },
  {
   "cell_type": "code",
   "execution_count": null,
   "id": "f5eb9d2e-5eb8-4dd1-a43e-30853abd469c",
   "metadata": {},
   "outputs": [],
   "source": []
  }
 ],
 "metadata": {
  "kernelspec": {
   "display_name": "Python 3",
   "language": "python",
   "name": "python3"
  },
  "language_info": {
   "codemirror_mode": {
    "name": "ipython",
    "version": 3
   },
   "file_extension": ".py",
   "mimetype": "text/x-python",
   "name": "python",
   "nbconvert_exporter": "python",
   "pygments_lexer": "ipython3",
   "version": "3.8.8"
  },
  "toc-autonumbering": false,
  "toc-showcode": false,
  "toc-showmarkdowntxt": false
 },
 "nbformat": 4,
 "nbformat_minor": 5
}
